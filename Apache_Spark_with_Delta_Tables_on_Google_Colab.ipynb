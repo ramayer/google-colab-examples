{
  "nbformat": 4,
  "nbformat_minor": 0,
  "metadata": {
    "colab": {
      "name": "Apache Spark with Delta Tables on Google Colab.ipynb",
      "provenance": [],
      "collapsed_sections": [],
      "toc_visible": true,
      "include_colab_link": true
    },
    "kernelspec": {
      "name": "python3",
      "display_name": "Python 3"
    }
  },
  "cells": [
    {
      "cell_type": "markdown",
      "metadata": {
        "id": "view-in-github",
        "colab_type": "text"
      },
      "source": [
        "<a href=\"https://colab.research.google.com/github/ramayer/google-colab-examples/blob/main/Apache_Spark_with_Delta_Tables_on_Google_Colab.ipynb\" target=\"_parent\"><img src=\"https://colab.research.google.com/assets/colab-badge.svg\" alt=\"Open In Colab\"/></a>"
      ]
    },
    {
      "cell_type": "markdown",
      "metadata": {
        "id": "kvD4HBMi0ohY"
      },
      "source": [
        "# Apache Spark 3.2.1 with Delta.io 1.2.1 in Google Colab\n"
      ]
    },
    {
      "cell_type": "markdown",
      "metadata": {
        "id": "MuHlNwQRGwQ_"
      },
      "source": [
        "#### Install Java (if needed)\n",
        "\n",
        "* Some versins of Spark depend on a particular version of Java that may differ from what Google Colab pre-installs.  For example, spark-3.1.2 wants openjdk-8.   Not needed for spark 3.2.1, which seems to work with whatever colab's default is.\n"
      ]
    },
    {
      "cell_type": "code",
      "metadata": {
        "id": "fUhBhrGmyAvs"
      },
      "source": [
        "!apt-get -qq update > /tmp/apt.out\n",
        "!apt-get install -y -qq openjdk-11-jdk-headless"
      ],
      "execution_count": 2,
      "outputs": []
    },
    {
      "cell_type": "markdown",
      "metadata": {
        "id": "uaplmdWPO02r"
      },
      "source": [
        "#### install Spark"
      ]
    },
    {
      "cell_type": "code",
      "metadata": {
        "id": "XF-e1DAsGUaL",
        "outputId": "65145788-82d2-4224-da7e-2ea75388543c",
        "colab": {
          "base_uri": "https://localhost:8080/"
        }
      },
      "source": [
        "!(wget -q --show-progress -nc https://mirrors.ocf.berkeley.edu/apache/spark/spark-3.2.1/spark-3.2.1-bin-hadoop3.2.tgz)\n",
        "!tar xf spark-3.2.1-bin-hadoop3.2.tgz"
      ],
      "execution_count": 3,
      "outputs": [
        {
          "output_type": "stream",
          "name": "stdout",
          "text": [
            "spark-3.2.1-bin-had 100%[===================>] 287.03M  56.4MB/s    in 5.4s    \n"
          ]
        }
      ]
    },
    {
      "cell_type": "markdown",
      "metadata": {
        "id": "nGBmI9oxWCEV"
      },
      "source": [
        "## Install pyspark and related python libraries\n",
        "\n"
      ]
    },
    {
      "cell_type": "code",
      "metadata": {
        "id": "p2hVj29_H4NC",
        "outputId": "a2bf0bbd-04dd-4d9a-c6ae-1d5a4582a5a0",
        "colab": {
          "base_uri": "https://localhost:8080/"
        }
      },
      "source": [
        "try:\n",
        "  import pyspark, findspark, delta\n",
        "except:\n",
        "  %pip install -q --upgrade pyspark==3.2.1\n",
        "  %pip install -q findspark\n",
        "  %pip install -q delta"
      ],
      "execution_count": 4,
      "outputs": [
        {
          "output_type": "stream",
          "name": "stdout",
          "text": [
            "\u001b[K     |████████████████████████████████| 281.4 MB 37 kB/s \n",
            "\u001b[K     |████████████████████████████████| 198 kB 46.3 MB/s \n",
            "\u001b[?25h  Building wheel for pyspark (setup.py) ... \u001b[?25l\u001b[?25hdone\n",
            "  Building wheel for delta (setup.py) ... \u001b[?25l\u001b[?25hdone\n"
          ]
        }
      ]
    },
    {
      "cell_type": "markdown",
      "metadata": {
        "id": "NwU28K5f1H3P"
      },
      "source": [
        "# Start a Spark Session\n"
      ]
    },
    {
      "cell_type": "code",
      "metadata": {
        "id": "zgReRGl0y23D",
        "colab": {
          "base_uri": "https://localhost:8080/",
          "height": 219
        },
        "outputId": "88e6e18e-76f0-4632-8118-da8e186a4e89"
      },
      "source": [
        "import findspark\n",
        "import pyspark\n",
        "import os\n",
        "\n",
        "os.environ[\"JAVA_HOME\"] = \"/usr/lib/jvm/java-11-openjdk-amd64\"\n",
        "os.environ[\"SPARK_HOME\"] = \"/content/spark-3.2.1-bin-hadoop3.2\"\n",
        "\n",
        "findspark.init()\n",
        "MAX_MEMORY=\"8g\"\n",
        "maven_coords = [\n",
        "    \"org.apache.spark:spark-avro_2.12:3.2.1\",\n",
        "    \"io.delta:delta-core_2.12:1.2.1\",\n",
        "    \"org.xerial:sqlite-jdbc:3.36.0.3\",\n",
        "    \"graphframes:graphframes:0.8.2-spark3.2-s_2.12\",\n",
        "    \"com.acervera.osm4scala:osm4scala-spark3-shaded_2.12:1.0.8\",\n",
        "]\n",
        "\n",
        "spark = (pyspark.sql.SparkSession.builder.appName(\"MyApp\") \n",
        "    .config(\"spark.jars.packages\", \",\".join(maven_coords))\n",
        "    .config(\"spark.sql.extensions\", \"io.delta.sql.DeltaSparkSessionExtension\") \n",
        "    .config(\"spark.sql.catalog.spark_catalog\", \"org.apache.spark.sql.delta.catalog.DeltaCatalog\") \n",
        "    .config(\"spark.executor.memory\", MAX_MEMORY) \n",
        "    .config(\"spark.driver.memory\", MAX_MEMORY) \n",
        "    .enableHiveSupport() \n",
        "    .getOrCreate()        \n",
        "    )\n",
        "\n",
        "spark"
      ],
      "execution_count": 2,
      "outputs": [
        {
          "output_type": "execute_result",
          "data": {
            "text/plain": [
              "<pyspark.sql.session.SparkSession at 0x7fec4f49cd10>"
            ],
            "text/html": [
              "\n",
              "            <div>\n",
              "                <p><b>SparkSession - hive</b></p>\n",
              "                \n",
              "        <div>\n",
              "            <p><b>SparkContext</b></p>\n",
              "\n",
              "            <p><a href=\"http://e18781b3a8c5:4040\">Spark UI</a></p>\n",
              "\n",
              "            <dl>\n",
              "              <dt>Version</dt>\n",
              "                <dd><code>v3.2.1</code></dd>\n",
              "              <dt>Master</dt>\n",
              "                <dd><code>local[*]</code></dd>\n",
              "              <dt>AppName</dt>\n",
              "                <dd><code>MyApp</code></dd>\n",
              "            </dl>\n",
              "        </div>\n",
              "        \n",
              "            </div>\n",
              "        "
            ]
          },
          "metadata": {},
          "execution_count": 2
        }
      ]
    },
    {
      "cell_type": "markdown",
      "metadata": {
        "id": "6w0vF5yhaM6U"
      },
      "source": [
        "## Create a delta table"
      ]
    },
    {
      "cell_type": "code",
      "metadata": {
        "id": "XyLUSLvHJOoI"
      },
      "source": [
        "#from delta.tables import DeltaTable\n",
        "import delta\n",
        "\n",
        "df = spark.createDataFrame([{'s':'hello world','i':1234}])\n",
        "\n",
        "(df.write.format('delta')\n",
        "         .mode('overwrite')\n",
        "         .option(\"mergeSchema\", \"true\")\n",
        "         .save('./delta_hello_world')\n",
        ")\n"
      ],
      "execution_count": 3,
      "outputs": []
    },
    {
      "cell_type": "markdown",
      "metadata": {
        "id": "pUAsPpX-aYxl"
      },
      "source": [
        "## Query the delta table"
      ]
    },
    {
      "cell_type": "code",
      "metadata": {
        "id": "twGQWmp3aVmh",
        "colab": {
          "base_uri": "https://localhost:8080/",
          "height": 81
        },
        "outputId": "b914278c-20a4-4826-af66-3190bd25364b"
      },
      "source": [
        "spark.read.format(\"delta\").load('./delta_hello_world').createOrReplaceTempView(\"delta_hello_world\")\n",
        "df2 = spark.sql(\"\"\"\n",
        "  select * from delta_hello_world\n",
        "\"\"\")\n",
        "df2.toPandas()"
      ],
      "execution_count": 4,
      "outputs": [
        {
          "output_type": "execute_result",
          "data": {
            "text/plain": [
              "      i            s\n",
              "0  1234  hello world"
            ],
            "text/html": [
              "\n",
              "  <div id=\"df-49ce924b-8223-46ac-bb67-b18fd8f84155\">\n",
              "    <div class=\"colab-df-container\">\n",
              "      <div>\n",
              "<style scoped>\n",
              "    .dataframe tbody tr th:only-of-type {\n",
              "        vertical-align: middle;\n",
              "    }\n",
              "\n",
              "    .dataframe tbody tr th {\n",
              "        vertical-align: top;\n",
              "    }\n",
              "\n",
              "    .dataframe thead th {\n",
              "        text-align: right;\n",
              "    }\n",
              "</style>\n",
              "<table border=\"1\" class=\"dataframe\">\n",
              "  <thead>\n",
              "    <tr style=\"text-align: right;\">\n",
              "      <th></th>\n",
              "      <th>i</th>\n",
              "      <th>s</th>\n",
              "    </tr>\n",
              "  </thead>\n",
              "  <tbody>\n",
              "    <tr>\n",
              "      <th>0</th>\n",
              "      <td>1234</td>\n",
              "      <td>hello world</td>\n",
              "    </tr>\n",
              "  </tbody>\n",
              "</table>\n",
              "</div>\n",
              "      <button class=\"colab-df-convert\" onclick=\"convertToInteractive('df-49ce924b-8223-46ac-bb67-b18fd8f84155')\"\n",
              "              title=\"Convert this dataframe to an interactive table.\"\n",
              "              style=\"display:none;\">\n",
              "        \n",
              "  <svg xmlns=\"http://www.w3.org/2000/svg\" height=\"24px\"viewBox=\"0 0 24 24\"\n",
              "       width=\"24px\">\n",
              "    <path d=\"M0 0h24v24H0V0z\" fill=\"none\"/>\n",
              "    <path d=\"M18.56 5.44l.94 2.06.94-2.06 2.06-.94-2.06-.94-.94-2.06-.94 2.06-2.06.94zm-11 1L8.5 8.5l.94-2.06 2.06-.94-2.06-.94L8.5 2.5l-.94 2.06-2.06.94zm10 10l.94 2.06.94-2.06 2.06-.94-2.06-.94-.94-2.06-.94 2.06-2.06.94z\"/><path d=\"M17.41 7.96l-1.37-1.37c-.4-.4-.92-.59-1.43-.59-.52 0-1.04.2-1.43.59L10.3 9.45l-7.72 7.72c-.78.78-.78 2.05 0 2.83L4 21.41c.39.39.9.59 1.41.59.51 0 1.02-.2 1.41-.59l7.78-7.78 2.81-2.81c.8-.78.8-2.07 0-2.86zM5.41 20L4 18.59l7.72-7.72 1.47 1.35L5.41 20z\"/>\n",
              "  </svg>\n",
              "      </button>\n",
              "      \n",
              "  <style>\n",
              "    .colab-df-container {\n",
              "      display:flex;\n",
              "      flex-wrap:wrap;\n",
              "      gap: 12px;\n",
              "    }\n",
              "\n",
              "    .colab-df-convert {\n",
              "      background-color: #E8F0FE;\n",
              "      border: none;\n",
              "      border-radius: 50%;\n",
              "      cursor: pointer;\n",
              "      display: none;\n",
              "      fill: #1967D2;\n",
              "      height: 32px;\n",
              "      padding: 0 0 0 0;\n",
              "      width: 32px;\n",
              "    }\n",
              "\n",
              "    .colab-df-convert:hover {\n",
              "      background-color: #E2EBFA;\n",
              "      box-shadow: 0px 1px 2px rgba(60, 64, 67, 0.3), 0px 1px 3px 1px rgba(60, 64, 67, 0.15);\n",
              "      fill: #174EA6;\n",
              "    }\n",
              "\n",
              "    [theme=dark] .colab-df-convert {\n",
              "      background-color: #3B4455;\n",
              "      fill: #D2E3FC;\n",
              "    }\n",
              "\n",
              "    [theme=dark] .colab-df-convert:hover {\n",
              "      background-color: #434B5C;\n",
              "      box-shadow: 0px 1px 3px 1px rgba(0, 0, 0, 0.15);\n",
              "      filter: drop-shadow(0px 1px 2px rgba(0, 0, 0, 0.3));\n",
              "      fill: #FFFFFF;\n",
              "    }\n",
              "  </style>\n",
              "\n",
              "      <script>\n",
              "        const buttonEl =\n",
              "          document.querySelector('#df-49ce924b-8223-46ac-bb67-b18fd8f84155 button.colab-df-convert');\n",
              "        buttonEl.style.display =\n",
              "          google.colab.kernel.accessAllowed ? 'block' : 'none';\n",
              "\n",
              "        async function convertToInteractive(key) {\n",
              "          const element = document.querySelector('#df-49ce924b-8223-46ac-bb67-b18fd8f84155');\n",
              "          const dataTable =\n",
              "            await google.colab.kernel.invokeFunction('convertToInteractive',\n",
              "                                                     [key], {});\n",
              "          if (!dataTable) return;\n",
              "\n",
              "          const docLinkHtml = 'Like what you see? Visit the ' +\n",
              "            '<a target=\"_blank\" href=https://colab.research.google.com/notebooks/data_table.ipynb>data table notebook</a>'\n",
              "            + ' to learn more about interactive tables.';\n",
              "          element.innerHTML = '';\n",
              "          dataTable['output_type'] = 'display_data';\n",
              "          await google.colab.output.renderOutput(dataTable, element);\n",
              "          const docLink = document.createElement('div');\n",
              "          docLink.innerHTML = docLinkHtml;\n",
              "          element.appendChild(docLink);\n",
              "        }\n",
              "      </script>\n",
              "    </div>\n",
              "  </div>\n",
              "  "
            ]
          },
          "metadata": {},
          "execution_count": 4
        }
      ]
    },
    {
      "cell_type": "markdown",
      "metadata": {
        "id": "TF40FXhBcffS"
      },
      "source": [
        "# Save dataframe on google drive"
      ]
    },
    {
      "cell_type": "code",
      "metadata": {
        "id": "N0gmY7adcl_X"
      },
      "source": [
        "save_on_google_drive = False\n",
        "if save_on_google_drive:\n",
        "  from google.colab import drive\n",
        "  if not os.path.ismount('/content/gdrive'):\n",
        "    drive.mount('/content/gdrive')\n",
        "  else:\n",
        "    print(\"drive was already mounted\")\n",
        "  df.write.format(\"delta\").save(\"/content/gdrive/MyDrive/Colab Datasets/test_delta_table\")"
      ],
      "execution_count": 5,
      "outputs": []
    },
    {
      "cell_type": "markdown",
      "metadata": {
        "id": "6BYpVr0REM2t"
      },
      "source": [
        "## Reddit questions"
      ]
    },
    {
      "cell_type": "code",
      "metadata": {
        "id": "IG5opCG2EP5W",
        "colab": {
          "base_uri": "https://localhost:8080/"
        },
        "outputId": "cd3078a9-1be8-45d9-af8f-862893c93ba1"
      },
      "source": [
        "# https://old.reddit.com/r/apachespark/comments/qrh5qn/join_3k_rows_with_4m_rows_to_create_3bn_row_delta/\n",
        "import time\n",
        "if True:\n",
        "  small_tbl_size = 3000\n",
        "  large_tbl_size = 4_000_000\n",
        "  join_col_cardinality = 4\n",
        "\n",
        "  small_data = [(x,f\"row {x}\", x%join_col_cardinality) for x in range(small_tbl_size)]\n",
        "  large_data = [(x,f\"row {x}\", x%join_col_cardinality) for x in range(large_tbl_size)]\n",
        "\n",
        "  small_df = spark.createDataFrame(small_data, 'id int, txt string, join_col int')\n",
        "  large_df = spark.createDataFrame(large_data, 'id int, txt string, join_col int')\n",
        "\n",
        "  small_df.createOrReplaceTempView('small_tbl')\n",
        "  large_df.createOrReplaceTempView('large_tbl')\n",
        "\n",
        "  t0 = time.time()\n",
        "  spark.sql(\"\"\"\n",
        "    SELECT * \n",
        "      FROM small_tbl AS s\n",
        "      JOIN large_tbl AS l ON (s.join_col = l.join_col)\n",
        "  \"\"\").show()\n",
        "  print(f\"{time.time() - t0} seconds\")"
      ],
      "execution_count": 6,
      "outputs": [
        {
          "output_type": "stream",
          "name": "stdout",
          "text": [
            "+---+-----+--------+---+------+--------+\n",
            "| id|  txt|join_col| id|   txt|join_col|\n",
            "+---+-----+--------+---+------+--------+\n",
            "|  1|row 1|       1|  1| row 1|       1|\n",
            "|  1|row 1|       1|  5| row 5|       1|\n",
            "|  1|row 1|       1|  9| row 9|       1|\n",
            "|  1|row 1|       1| 13|row 13|       1|\n",
            "|  1|row 1|       1| 17|row 17|       1|\n",
            "|  1|row 1|       1| 21|row 21|       1|\n",
            "|  1|row 1|       1| 25|row 25|       1|\n",
            "|  1|row 1|       1| 29|row 29|       1|\n",
            "|  1|row 1|       1| 33|row 33|       1|\n",
            "|  1|row 1|       1| 37|row 37|       1|\n",
            "|  1|row 1|       1| 41|row 41|       1|\n",
            "|  1|row 1|       1| 45|row 45|       1|\n",
            "|  1|row 1|       1| 49|row 49|       1|\n",
            "|  1|row 1|       1| 53|row 53|       1|\n",
            "|  1|row 1|       1| 57|row 57|       1|\n",
            "|  1|row 1|       1| 61|row 61|       1|\n",
            "|  1|row 1|       1| 65|row 65|       1|\n",
            "|  1|row 1|       1| 69|row 69|       1|\n",
            "|  1|row 1|       1| 73|row 73|       1|\n",
            "|  1|row 1|       1| 77|row 77|       1|\n",
            "+---+-----+--------+---+------+--------+\n",
            "only showing top 20 rows\n",
            "\n",
            "16.119478702545166 seconds\n"
          ]
        }
      ]
    },
    {
      "cell_type": "code",
      "metadata": {
        "id": "MOAV1lw7H6BX",
        "outputId": "f26923f5-b8fd-448f-a32c-f6f599eaf3c6",
        "colab": {
          "base_uri": "https://localhost:8080/"
        }
      },
      "source": [
        "# https://www.reddit.com/r/apachespark/comments/r0fwrx/merge_two_rdds/\n",
        "d1 = [3,5,8]\n",
        "d2 = [1,2,3,4]\n",
        "df1 = spark.createDataFrame(d1,'int').createOrReplaceTempView('v1')\n",
        "df2 = spark.createDataFrame(d2,'int').createOrReplaceTempView('v2')\n",
        "\n",
        "spark.sql(\"\"\"\n",
        "   select flatten(array(array(v2.value),v1s.values))\n",
        "     from v2 \n",
        "     join (select collect_list(value) as values from v1) as v1s\n",
        "\"\"\").show()"
      ],
      "execution_count": 7,
      "outputs": [
        {
          "output_type": "stream",
          "name": "stdout",
          "text": [
            "+------------------------------------+\n",
            "|flatten(array(array(value), values))|\n",
            "+------------------------------------+\n",
            "|                        [1, 3, 5, 8]|\n",
            "|                        [2, 3, 5, 8]|\n",
            "|                        [3, 3, 5, 8]|\n",
            "|                        [4, 3, 5, 8]|\n",
            "+------------------------------------+\n",
            "\n"
          ]
        }
      ]
    },
    {
      "cell_type": "code",
      "source": [
        "# https://old.reddit.com/r/apachespark/comments/rmiksv/create_new_column_within_a_join_in_pyspark/\n",
        "\n",
        "if True:\n",
        "    d1 = [{'id':1,'animal':'cat'},{'id':2,'animal':'hawk'}]\n",
        "    d2 = [{'id':1,'weapon':'claw'},{'id':2,'weapon':'talon'}]\n",
        "    df1 = spark.createDataFrame(d1).createOrReplaceTempView('v1')\n",
        "    df2 = spark.createDataFrame(d2).createOrReplaceTempView('v2')\n",
        "\n",
        "    spark.sql(\"\"\"\n",
        "      select *, \n",
        "             v1.animal || 's have ' ||v2.weapon || 's' as my_new_column\n",
        "        from v1\n",
        "        join v2 using (id)\n",
        "    \"\"\").show()"
      ],
      "metadata": {
        "colab": {
          "base_uri": "https://localhost:8080/"
        },
        "id": "kc2MxqsCPO-y",
        "outputId": "b29b7e03-6186-49eb-a517-7be982c0dfdb"
      },
      "execution_count": 8,
      "outputs": [
        {
          "output_type": "stream",
          "name": "stdout",
          "text": [
            "+---+------+------+-----------------+\n",
            "| id|animal|weapon|    my_new_column|\n",
            "+---+------+------+-----------------+\n",
            "|  1|   cat|  claw|  cats have claws|\n",
            "|  2|  hawk| talon|hawks have talons|\n",
            "+---+------+------+-----------------+\n",
            "\n"
          ]
        }
      ]
    },
    {
      "cell_type": "code",
      "source": [
        "%%time\n",
        "# https://old.reddit.com/r/apachespark/comments/rme6zi/working_with_large_dataset/\n",
        "\n",
        "df = spark.range(2_000_000_000).selectExpr(\"id%10 as id_mod_ten\",\"*\").createOrReplaceTempView(\"billions_of_rows\")\n",
        "\n",
        "df2 = spark.sql(\"select count(distinct id_mod_ten) from billions_of_rows\")\n",
        "df2.show()\n"
      ],
      "metadata": {
        "colab": {
          "base_uri": "https://localhost:8080/"
        },
        "id": "VPH0M41WQWAU",
        "outputId": "5688c922-c72c-48d9-e02f-b3f57841b674"
      },
      "execution_count": 10,
      "outputs": [
        {
          "output_type": "stream",
          "name": "stdout",
          "text": [
            "+--------------------------+\n",
            "|count(DISTINCT id_mod_ten)|\n",
            "+--------------------------+\n",
            "|                        10|\n",
            "+--------------------------+\n",
            "\n",
            "CPU times: user 479 ms, sys: 50.8 ms, total: 530 ms\n",
            "Wall time: 1min 34s\n"
          ]
        }
      ]
    },
    {
      "cell_type": "code",
      "source": [
        ""
      ],
      "metadata": {
        "id": "T72MFbt8asf0"
      },
      "execution_count": null,
      "outputs": []
    }
  ]
}