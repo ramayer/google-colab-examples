{
  "nbformat": 4,
  "nbformat_minor": 0,
  "metadata": {
    "colab": {
      "name": "Apache Spark with Delta Tables on Google Colab.ipynb",
      "provenance": [],
      "collapsed_sections": [],
      "toc_visible": true,
      "include_colab_link": true
    },
    "kernelspec": {
      "name": "python3",
      "display_name": "Python 3"
    }
  },
  "cells": [
    {
      "cell_type": "markdown",
      "metadata": {
        "id": "view-in-github",
        "colab_type": "text"
      },
      "source": [
        "<a href=\"https://colab.research.google.com/github/ramayer/google-colab-examples/blob/main/Apache_Spark_with_Delta_Tables_on_Google_Colab.ipynb\" target=\"_parent\"><img src=\"https://colab.research.google.com/assets/colab-badge.svg\" alt=\"Open In Colab\"/></a>"
      ]
    },
    {
      "cell_type": "markdown",
      "metadata": {
        "id": "kvD4HBMi0ohY"
      },
      "source": [
        "# Apache Spark with Delta Tables in Google Colab\n"
      ]
    },
    {
      "cell_type": "markdown",
      "metadata": {
        "id": "MuHlNwQRGwQ_"
      },
      "source": [
        "#### Install Java"
      ]
    },
    {
      "cell_type": "code",
      "metadata": {
        "id": "fUhBhrGmyAvs"
      },
      "source": [
        "!apt-get install -y -qq openjdk-8-jdk-headless "
      ],
      "execution_count": 1,
      "outputs": []
    },
    {
      "cell_type": "markdown",
      "metadata": {
        "id": "uaplmdWPO02r"
      },
      "source": [
        "#### install Spark"
      ]
    },
    {
      "cell_type": "code",
      "metadata": {
        "id": "XF-e1DAsGUaL"
      },
      "source": [
        "!(wget -q --show-progress -nc https://mirrors.ocf.berkeley.edu/apache/spark/spark-3.1.2/spark-3.1.2-bin-hadoop3.2.tgz)\n",
        "!tar xf spark-3.1.2-bin-hadoop3.2.tgz"
      ],
      "execution_count": 2,
      "outputs": []
    },
    {
      "cell_type": "markdown",
      "metadata": {
        "id": "nGBmI9oxWCEV"
      },
      "source": [
        "## Install pyspark and related python libraries\n",
        "\n"
      ]
    },
    {
      "cell_type": "code",
      "metadata": {
        "id": "p2hVj29_H4NC"
      },
      "source": [
        "try:\n",
        "  import pyspark, findspark, delta\n",
        "except:\n",
        "  %pip install -q --upgrade pyspark\n",
        "  %pip install -q findspark\n",
        "  %pip install -q delta"
      ],
      "execution_count": 3,
      "outputs": []
    },
    {
      "cell_type": "markdown",
      "metadata": {
        "id": "NwU28K5f1H3P"
      },
      "source": [
        "# Start a Spark Session\n"
      ]
    },
    {
      "cell_type": "code",
      "metadata": {
        "id": "zgReRGl0y23D",
        "colab": {
          "base_uri": "https://localhost:8080/",
          "height": 219
        },
        "outputId": "0c7349ef-1d4d-41a7-9187-3ac093bc4646"
      },
      "source": [
        "import findspark\n",
        "import pyspark\n",
        "import os\n",
        "\n",
        "os.environ[\"JAVA_HOME\"] = \"/usr/lib/jvm/java-8-openjdk-amd64\"\n",
        "os.environ[\"SPARK_HOME\"] = \"/content/spark-3.1.2-bin-hadoop3.2\"\n",
        "\n",
        "MAX_MEMORY=\"8g\"\n",
        "findspark.init()\n",
        "from pyspark.sql import SparkSession\n",
        "spark = (pyspark.sql.SparkSession.builder.appName(\"MyApp\") \n",
        "    .config(\"spark.jars.packages\", \"io.delta:delta-core_2.12:0.8.0\") \n",
        "    .config(\"spark.sql.extensions\", \"io.delta.sql.DeltaSparkSessionExtension\") \n",
        "    .config(\"spark.sql.catalog.spark_catalog\", \"org.apache.spark.sql.delta.catalog.DeltaCatalog\") \n",
        "    .config(\"spark.executor.memory\", MAX_MEMORY) \n",
        "    .config(\"spark.driver.memory\", MAX_MEMORY) \n",
        "    .enableHiveSupport() \n",
        "    .getOrCreate()        \n",
        "    )\n",
        "\n",
        "spark"
      ],
      "execution_count": 4,
      "outputs": [
        {
          "output_type": "execute_result",
          "data": {
            "text/html": [
              "\n",
              "            <div>\n",
              "                <p><b>SparkSession - hive</b></p>\n",
              "                \n",
              "        <div>\n",
              "            <p><b>SparkContext</b></p>\n",
              "\n",
              "            <p><a href=\"http://429fa11a67f4:4040\">Spark UI</a></p>\n",
              "\n",
              "            <dl>\n",
              "              <dt>Version</dt>\n",
              "                <dd><code>v3.1.2</code></dd>\n",
              "              <dt>Master</dt>\n",
              "                <dd><code>local[*]</code></dd>\n",
              "              <dt>AppName</dt>\n",
              "                <dd><code>MyApp</code></dd>\n",
              "            </dl>\n",
              "        </div>\n",
              "        \n",
              "            </div>\n",
              "        "
            ],
            "text/plain": [
              "<pyspark.sql.session.SparkSession at 0x7f3cd693c250>"
            ]
          },
          "metadata": {},
          "execution_count": 4
        }
      ]
    },
    {
      "cell_type": "markdown",
      "metadata": {
        "id": "6w0vF5yhaM6U"
      },
      "source": [
        "## Create a delta table"
      ]
    },
    {
      "cell_type": "code",
      "metadata": {
        "id": "XyLUSLvHJOoI"
      },
      "source": [
        "#from delta.tables import DeltaTable\n",
        "import delta\n",
        "\n",
        "df = spark.createDataFrame([{'hi':'hello','w':'world'}])\n",
        "\n",
        "(df.write.format('delta')\n",
        "         .mode('overwrite')\n",
        "         .option(\"mergeSchema\", \"true\")\n",
        "         .save('./delta_hello_world')\n",
        ")\n"
      ],
      "execution_count": 5,
      "outputs": []
    },
    {
      "cell_type": "markdown",
      "metadata": {
        "id": "pUAsPpX-aYxl"
      },
      "source": [
        "## Query the delta table"
      ]
    },
    {
      "cell_type": "code",
      "metadata": {
        "id": "twGQWmp3aVmh",
        "colab": {
          "base_uri": "https://localhost:8080/",
          "height": 81
        },
        "outputId": "c7a5c562-39d5-48e4-c27a-013336db5236"
      },
      "source": [
        "spark.read.format(\"delta\").load('./delta_hello_world').createOrReplaceTempView(\"delta_hello_world\")\n",
        "df2 = spark.sql(\"\"\"\n",
        "  select * from delta_hello_world\n",
        "\"\"\")\n",
        "df2.toPandas()"
      ],
      "execution_count": 6,
      "outputs": [
        {
          "output_type": "execute_result",
          "data": {
            "text/html": [
              "<div>\n",
              "<style scoped>\n",
              "    .dataframe tbody tr th:only-of-type {\n",
              "        vertical-align: middle;\n",
              "    }\n",
              "\n",
              "    .dataframe tbody tr th {\n",
              "        vertical-align: top;\n",
              "    }\n",
              "\n",
              "    .dataframe thead th {\n",
              "        text-align: right;\n",
              "    }\n",
              "</style>\n",
              "<table border=\"1\" class=\"dataframe\">\n",
              "  <thead>\n",
              "    <tr style=\"text-align: right;\">\n",
              "      <th></th>\n",
              "      <th>hi</th>\n",
              "      <th>w</th>\n",
              "    </tr>\n",
              "  </thead>\n",
              "  <tbody>\n",
              "    <tr>\n",
              "      <th>0</th>\n",
              "      <td>hello</td>\n",
              "      <td>world</td>\n",
              "    </tr>\n",
              "  </tbody>\n",
              "</table>\n",
              "</div>"
            ],
            "text/plain": [
              "      hi      w\n",
              "0  hello  world"
            ]
          },
          "metadata": {},
          "execution_count": 6
        }
      ]
    },
    {
      "cell_type": "markdown",
      "metadata": {
        "id": "TF40FXhBcffS"
      },
      "source": [
        "# Save dataframe on google drive"
      ]
    },
    {
      "cell_type": "code",
      "metadata": {
        "id": "N0gmY7adcl_X"
      },
      "source": [
        "save_on_google_drive = False\n",
        "if save_on_google_drive:\n",
        "  from google.colab import drive\n",
        "  if not os.path.ismount('/content/gdrive'):\n",
        "    drive.mount('/content/gdrive')\n",
        "  else:\n",
        "    print(\"drive was already mounted\")\n",
        "  df.write.format(\"delta\").save(\"/content/gdrive/MyDrive/Colab Datasets/test_delta_table\")"
      ],
      "execution_count": 9,
      "outputs": []
    },
    {
      "cell_type": "markdown",
      "metadata": {
        "id": "6BYpVr0REM2t"
      },
      "source": [
        "## Reddit questions"
      ]
    },
    {
      "cell_type": "code",
      "metadata": {
        "id": "IG5opCG2EP5W",
        "outputId": "6e6efcf1-fdd6-496e-b74f-55575b5a56d3",
        "colab": {
          "base_uri": "https://localhost:8080/"
        }
      },
      "source": [
        "# https://old.reddit.com/r/apachespark/comments/qrh5qn/join_3k_rows_with_4m_rows_to_create_3bn_row_delta/\n",
        "import time\n",
        "if True:\n",
        "  small_tbl_size = 3000\n",
        "  large_tbl_size = 4_000_000\n",
        "  join_col_cardinality = 4\n",
        "\n",
        "  small_data = [(x,f\"row {x}\", x%join_col_cardinality) for x in range(small_tbl_size)]\n",
        "  large_data = [(x,f\"row {x}\", x%join_col_cardinality) for x in range(large_tbl_size)]\n",
        "\n",
        "  small_df = spark.createDataFrame(small_data, 'id int, txt string, join_col int')\n",
        "  large_df = spark.createDataFrame(large_data, 'id int, txt string, join_col int')\n",
        "\n",
        "  small_df.createOrReplaceTempView('small_tbl')\n",
        "  large_df.createOrReplaceTempView('large_tbl')\n",
        "\n",
        "  t0 = time.time()\n",
        "  spark.sql(\"\"\"\n",
        "    SELECT * \n",
        "      FROM small_tbl AS s\n",
        "      JOIN large_tbl AS l ON (s.join_col = l.join_col)\n",
        "  \"\"\").show()\n",
        "  print(f\"{time.time() - t0} seconds\")"
      ],
      "execution_count": 12,
      "outputs": [
        {
          "output_type": "stream",
          "name": "stdout",
          "text": [
            "+---+-----+--------+---+------+--------+\n",
            "| id|  txt|join_col| id|   txt|join_col|\n",
            "+---+-----+--------+---+------+--------+\n",
            "|  1|row 1|       1|  1| row 1|       1|\n",
            "|  1|row 1|       1|  5| row 5|       1|\n",
            "|  1|row 1|       1|  9| row 9|       1|\n",
            "|  1|row 1|       1| 13|row 13|       1|\n",
            "|  1|row 1|       1| 17|row 17|       1|\n",
            "|  1|row 1|       1| 21|row 21|       1|\n",
            "|  1|row 1|       1| 25|row 25|       1|\n",
            "|  1|row 1|       1| 29|row 29|       1|\n",
            "|  1|row 1|       1| 33|row 33|       1|\n",
            "|  1|row 1|       1| 37|row 37|       1|\n",
            "|  1|row 1|       1| 41|row 41|       1|\n",
            "|  1|row 1|       1| 45|row 45|       1|\n",
            "|  1|row 1|       1| 49|row 49|       1|\n",
            "|  1|row 1|       1| 53|row 53|       1|\n",
            "|  1|row 1|       1| 57|row 57|       1|\n",
            "|  1|row 1|       1| 61|row 61|       1|\n",
            "|  1|row 1|       1| 65|row 65|       1|\n",
            "|  1|row 1|       1| 69|row 69|       1|\n",
            "|  1|row 1|       1| 73|row 73|       1|\n",
            "|  1|row 1|       1| 77|row 77|       1|\n",
            "+---+-----+--------+---+------+--------+\n",
            "only showing top 20 rows\n",
            "\n",
            "11.074525594711304 seconds\n"
          ]
        }
      ]
    },
    {
      "cell_type": "code",
      "metadata": {
        "id": "MOAV1lw7H6BX"
      },
      "source": [
        ""
      ],
      "execution_count": null,
      "outputs": []
    }
  ]
}