{
  "nbformat": 4,
  "nbformat_minor": 0,
  "metadata": {
    "kernelspec": {
      "display_name": "Python 3",
      "language": "python",
      "name": "python3"
    },
    "language_info": {
      "codemirror_mode": {
        "name": "ipython",
        "version": 3
      },
      "file_extension": ".py",
      "mimetype": "text/x-python",
      "name": "python",
      "nbconvert_exporter": "python",
      "pygments_lexer": "ipython3",
      "version": "3.8.8"
    },
    "colab": {
      "name": "spark-and-gis-visualization-on-kaggle-notebooks.ipynb",
      "provenance": [],
      "include_colab_link": true
    },
    "widgets": {
      "application/vnd.jupyter.widget-state+json": {
        "27c4314e24ed48a0a5f82d797b27fadc": {
          "model_module": "keplergl-jupyter",
          "model_name": "KeplerGlModal",
          "model_module_version": "^0.3.0",
          "state": {
            "_view_name": "KeplerGlView",
            "_dom_classes": [],
            "_model_name": "KeplerGlModal",
            "config": {},
            "_view_module": "keplergl-jupyter",
            "_model_module_version": "^0.3.0",
            "value": "Hello World!",
            "_view_count": null,
            "_view_module_version": "^0.3.0",
            "data": {},
            "layout": "IPY_MODEL_e10dd6e087b446d798ef67d98cf4dbda",
            "height": 600,
            "_model_module": "keplergl-jupyter"
          }
        }
      }
    }
  },
  "cells": [
    {
      "cell_type": "markdown",
      "metadata": {
        "id": "view-in-github",
        "colab_type": "text"
      },
      "source": [
        "<a href=\"https://colab.research.google.com/github/ramayer/google-colab-examples/blob/main/tmp/spark-and-gis-visualization-on-kaggle-notebooks.ipynb\" target=\"_parent\"><img src=\"https://colab.research.google.com/assets/colab-badge.svg\" alt=\"Open In Colab\"/></a>"
      ]
    },
    {
      "cell_type": "markdown",
      "metadata": {
        "id": "9mOh_xd3yxb7"
      },
      "source": [
        "# Spark with GIS visualization In Kaggle Notebooks."
      ]
    },
    {
      "cell_type": "code",
      "metadata": {
        "_cell_guid": "b1076dfc-b9ad-4769-8c92-a6c4dae69d19",
        "_uuid": "8f2839f25d086af736a60e9eeb907d3b93b6e0e5",
        "id": "tNKKDrzqyxcA"
      },
      "source": [
        "# This Python 3 environment comes with many helpful analytics libraries installed\n",
        "# It is defined by the kaggle/python Docker image: https://github.com/kaggle/docker-python\n",
        "# For example, here's several helpful packages to load\n",
        "\n",
        "import numpy as np # linear algebra\n",
        "import pandas as pd # data processing, CSV file I/O (e.g. pd.read_csv)\n",
        "\n",
        "# Input data files are available in the read-only \"../input/\" directory\n",
        "# For example, running this (by clicking run or pressing Shift+Enter) will list all files under the input directory\n",
        "\n",
        "import os\n",
        "for dirname, _, filenames in os.walk('/kaggle/input'):\n",
        "    for filename in filenames:\n",
        "        print(os.path.join(dirname, filename))\n",
        "\n",
        "# You can write up to 20GB to the current directory (/kaggle/working/) that gets preserved as output when you create a version using \"Save & Run All\" \n",
        "# You can also write temporary files to /kaggle/temp/, but they won't be saved outside of the current session"
      ],
      "execution_count": 1,
      "outputs": []
    },
    {
      "cell_type": "code",
      "metadata": {
        "id": "h7nZ4WTXyxcC",
        "outputId": "15a6e745-eac9-4376-9688-ce15fd676c5f",
        "colab": {
          "base_uri": "https://localhost:8080/"
        }
      },
      "source": [
        "required_packages = {\"keplergl\",\"geopandas\",\"h3\",\"geocoder\"}\n",
        "\n",
        "import pkg_resources\n",
        "for lib in required_packages - {pkg.key for pkg in pkg_resources.working_set}:\n",
        "  print(f\"installing {lib}\")\n",
        "  %pip install -q --upgrade pip\n",
        "  %pip install --use-feature=2020-resolver -q $lib"
      ],
      "execution_count": 2,
      "outputs": [
        {
          "output_type": "stream",
          "text": [
            "installing keplergl\n",
            "\u001b[K     |████████████████████████████████| 1.6 MB 9.2 MB/s \n",
            "\u001b[?25h\u001b[33mWARNING: --use-feature=2020-resolver no longer has any effect, since it is now the default dependency resolver in pip. This will become an error in pip 21.0.\u001b[0m\n",
            "\u001b[K     |████████████████████████████████| 8.1 MB 6.0 MB/s \n",
            "\u001b[K     |████████████████████████████████| 994 kB 43.6 MB/s \n",
            "\u001b[K     |████████████████████████████████| 15.4 MB 35 kB/s \n",
            "\u001b[K     |████████████████████████████████| 6.6 MB 39.3 MB/s \n",
            "\u001b[?25h  Building wheel for keplergl (setup.py) ... \u001b[?25l\u001b[?25hdone\n",
            "\u001b[33mWARNING: Running pip as the 'root' user can result in broken permissions and conflicting behaviour with the system package manager. It is recommended to use a virtual environment instead: https://pip.pypa.io/warnings/venv\u001b[0m\n",
            "installing geocoder\n",
            "\u001b[33mWARNING: Running pip as the 'root' user can result in broken permissions and conflicting behaviour with the system package manager. It is recommended to use a virtual environment instead: https://pip.pypa.io/warnings/venv\u001b[0m\n",
            "\u001b[33mWARNING: --use-feature=2020-resolver no longer has any effect, since it is now the default dependency resolver in pip. This will become an error in pip 21.0.\u001b[0m\n",
            "\u001b[K     |████████████████████████████████| 98 kB 3.9 MB/s \n",
            "\u001b[33mWARNING: Running pip as the 'root' user can result in broken permissions and conflicting behaviour with the system package manager. It is recommended to use a virtual environment instead: https://pip.pypa.io/warnings/venv\u001b[0m\n",
            "\u001b[?25hinstalling h3\n",
            "\u001b[33mWARNING: Running pip as the 'root' user can result in broken permissions and conflicting behaviour with the system package manager. It is recommended to use a virtual environment instead: https://pip.pypa.io/warnings/venv\u001b[0m\n",
            "\u001b[33mWARNING: --use-feature=2020-resolver no longer has any effect, since it is now the default dependency resolver in pip. This will become an error in pip 21.0.\u001b[0m\n",
            "\u001b[K     |████████████████████████████████| 793 kB 8.6 MB/s \n",
            "\u001b[33mWARNING: Running pip as the 'root' user can result in broken permissions and conflicting behaviour with the system package manager. It is recommended to use a virtual environment instead: https://pip.pypa.io/warnings/venv\u001b[0m\n",
            "\u001b[?25hinstalling geopandas\n",
            "\u001b[33mWARNING: Running pip as the 'root' user can result in broken permissions and conflicting behaviour with the system package manager. It is recommended to use a virtual environment instead: https://pip.pypa.io/warnings/venv\u001b[0m\n",
            "\u001b[33mWARNING: --use-feature=2020-resolver no longer has any effect, since it is now the default dependency resolver in pip. This will become an error in pip 21.0.\u001b[0m\n",
            "\u001b[33mWARNING: Running pip as the 'root' user can result in broken permissions and conflicting behaviour with the system package manager. It is recommended to use a virtual environment instead: https://pip.pypa.io/warnings/venv\u001b[0m\n"
          ],
          "name": "stdout"
        }
      ]
    },
    {
      "cell_type": "code",
      "metadata": {
        "id": "SnY5dPmSyxcD",
        "outputId": "4d2b4036-d070-4bb3-cbd6-acba1f2a74ce",
        "colab": {
          "base_uri": "https://localhost:8080/"
        }
      },
      "source": [
        "%%sh\n",
        "df"
      ],
      "execution_count": 3,
      "outputs": [
        {
          "output_type": "stream",
          "text": [
            "Filesystem     1K-blocks     Used Available Use% Mounted on\n",
            "overlay        112947452 38870456  74060612  35% /\n",
            "tmpfs              65536        0     65536   0% /dev\n",
            "tmpfs            6651464        0   6651464   0% /sys/fs/cgroup\n",
            "shm              6160384        0   6160384   0% /dev/shm\n",
            "tmpfs            6651464       36   6651428   1% /var/colab\n",
            "/dev/sda1       79368748 42981832  36370532  55% /etc/hosts\n",
            "tmpfs            6651464        0   6651464   0% /proc/acpi\n",
            "tmpfs            6651464        0   6651464   0% /proc/scsi\n",
            "tmpfs            6651464        0   6651464   0% /sys/firmware\n"
          ],
          "name": "stdout"
        }
      ]
    },
    {
      "cell_type": "code",
      "metadata": {
        "id": "3Ldpmi0HyxcD",
        "outputId": "d43f8dae-ddef-43fd-fe83-2dee03040ecc",
        "colab": {
          "base_uri": "https://localhost:8080/"
        }
      },
      "source": [
        "!sh -c ls"
      ],
      "execution_count": 4,
      "outputs": [
        {
          "output_type": "stream",
          "text": [
            "sample_data\n"
          ],
          "name": "stdout"
        }
      ]
    },
    {
      "cell_type": "code",
      "metadata": {
        "id": "_5yPaGihyxcE",
        "outputId": "73fb92ca-cda0-4ae6-8f24-feaf166c5276",
        "colab": {
          "base_uri": "https://localhost:8080/"
        }
      },
      "source": [
        "!pip install pyspark"
      ],
      "execution_count": 5,
      "outputs": [
        {
          "output_type": "stream",
          "text": [
            "Collecting pyspark\n",
            "  Downloading pyspark-3.1.2.tar.gz (212.4 MB)\n",
            "\u001b[K     |████████████████████████████████| 212.4 MB 65 kB/s \n",
            "\u001b[?25hCollecting py4j==0.10.9\n",
            "  Downloading py4j-0.10.9-py2.py3-none-any.whl (198 kB)\n",
            "\u001b[K     |████████████████████████████████| 198 kB 21.0 MB/s \n",
            "\u001b[?25hBuilding wheels for collected packages: pyspark\n",
            "  Building wheel for pyspark (setup.py) ... \u001b[?25l\u001b[?25hdone\n",
            "  Created wheel for pyspark: filename=pyspark-3.1.2-py2.py3-none-any.whl size=212880768 sha256=6cf50b006499be860a3b0200e357fbc6b1c4752f763c8f654b2d95c5fef12960\n",
            "  Stored in directory: /root/.cache/pip/wheels/a5/0a/c1/9561f6fecb759579a7d863dcd846daaa95f598744e71b02c77\n",
            "Successfully built pyspark\n",
            "Installing collected packages: py4j, pyspark\n",
            "Successfully installed py4j-0.10.9 pyspark-3.1.2\n",
            "\u001b[33mWARNING: Running pip as the 'root' user can result in broken permissions and conflicting behaviour with the system package manager. It is recommended to use a virtual environment instead: https://pip.pypa.io/warnings/venv\u001b[0m\n"
          ],
          "name": "stdout"
        }
      ]
    },
    {
      "cell_type": "code",
      "metadata": {
        "id": "2qqINbuwyxcF",
        "outputId": "517be728-bbb6-48d5-a4fa-548c9175a833",
        "colab": {
          "base_uri": "https://localhost:8080/",
          "height": 216
        }
      },
      "source": [
        "import pyspark\n",
        "\n",
        "MAX_MEMORY = \"8g\"  # 24 gives OOM here.\n",
        "\n",
        "spark = (pyspark.sql.SparkSession.builder.appName(\"MyApp\") \n",
        "    .config(\"spark.jars.packages\", \"io.delta:delta-core_2.12:0.8.0\") \n",
        "    .config(\"spark.sql.extensions\", \"io.delta.sql.DeltaSparkSessionExtension\") \n",
        "    .config(\"spark.sql.catalog.spark_catalog\", \"org.apache.spark.sql.delta.catalog.DeltaCatalog\") \n",
        "    .config(\"spark.executor.memory\", MAX_MEMORY) \n",
        "    .config(\"spark.driver.memory\", MAX_MEMORY) \n",
        "    .enableHiveSupport() \n",
        "    .getOrCreate()        \n",
        "    )\n",
        "spark"
      ],
      "execution_count": 6,
      "outputs": [
        {
          "output_type": "execute_result",
          "data": {
            "text/html": [
              "\n",
              "            <div>\n",
              "                <p><b>SparkSession - hive</b></p>\n",
              "                \n",
              "        <div>\n",
              "            <p><b>SparkContext</b></p>\n",
              "\n",
              "            <p><a href=\"http://fbfc170692ec:4040\">Spark UI</a></p>\n",
              "\n",
              "            <dl>\n",
              "              <dt>Version</dt>\n",
              "                <dd><code>v3.1.2</code></dd>\n",
              "              <dt>Master</dt>\n",
              "                <dd><code>local[*]</code></dd>\n",
              "              <dt>AppName</dt>\n",
              "                <dd><code>MyApp</code></dd>\n",
              "            </dl>\n",
              "        </div>\n",
              "        \n",
              "            </div>\n",
              "        "
            ],
            "text/plain": [
              "<pyspark.sql.session.SparkSession at 0x7fa947d59050>"
            ]
          },
          "metadata": {},
          "execution_count": 6
        }
      ]
    },
    {
      "cell_type": "code",
      "metadata": {
        "id": "xBWXqGshyxcG"
      },
      "source": [
        "df = spark.createDataFrame([{'hi':'hello','w':'world'}])"
      ],
      "execution_count": 7,
      "outputs": []
    },
    {
      "cell_type": "code",
      "metadata": {
        "id": "8BIxVK4lyxcG"
      },
      "source": [
        " df.write.format('delta').mode('overwrite').option(\"mergeSchema\", \"true\").save('/tmp/delta1')"
      ],
      "execution_count": 8,
      "outputs": []
    },
    {
      "cell_type": "code",
      "metadata": {
        "id": "SvbCkXuFyxcH",
        "outputId": "ac55e481-a323-4fcb-c284-32377dc76556",
        "colab": {
          "base_uri": "https://localhost:8080/",
          "height": 80
        }
      },
      "source": [
        "df = spark.read.format('delta').load('/tmp/delta1')\n",
        "df.createOrReplaceTempView('d1')\n",
        "spark.sql('select * from d1').toPandas()"
      ],
      "execution_count": 9,
      "outputs": [
        {
          "output_type": "execute_result",
          "data": {
            "text/html": [
              "<div>\n",
              "<style scoped>\n",
              "    .dataframe tbody tr th:only-of-type {\n",
              "        vertical-align: middle;\n",
              "    }\n",
              "\n",
              "    .dataframe tbody tr th {\n",
              "        vertical-align: top;\n",
              "    }\n",
              "\n",
              "    .dataframe thead th {\n",
              "        text-align: right;\n",
              "    }\n",
              "</style>\n",
              "<table border=\"1\" class=\"dataframe\">\n",
              "  <thead>\n",
              "    <tr style=\"text-align: right;\">\n",
              "      <th></th>\n",
              "      <th>hi</th>\n",
              "      <th>w</th>\n",
              "    </tr>\n",
              "  </thead>\n",
              "  <tbody>\n",
              "    <tr>\n",
              "      <th>0</th>\n",
              "      <td>hello</td>\n",
              "      <td>world</td>\n",
              "    </tr>\n",
              "  </tbody>\n",
              "</table>\n",
              "</div>"
            ],
            "text/plain": [
              "      hi      w\n",
              "0  hello  world"
            ]
          },
          "metadata": {},
          "execution_count": 9
        }
      ]
    },
    {
      "cell_type": "code",
      "metadata": {
        "id": "34hdmvH-yxcH"
      },
      "source": [
        "import keplergl"
      ],
      "execution_count": 12,
      "outputs": []
    },
    {
      "cell_type": "code",
      "metadata": {
        "id": "e1FUtZ3ayxcI",
        "outputId": "1e38c72d-c606-4b9e-ad70-4c5762dfd95d",
        "colab": {
          "base_uri": "https://localhost:8080/",
          "height": 34,
          "referenced_widgets": [
            "27c4314e24ed48a0a5f82d797b27fadc"
          ]
        }
      },
      "source": [
        "map_1 = keplergl.KeplerGl(height=600)\n",
        "map_1"
      ],
      "execution_count": 13,
      "outputs": [
        {
          "output_type": "stream",
          "text": [
            "User Guide: https://docs.kepler.gl/docs/keplergl-jupyter\n"
          ],
          "name": "stdout"
        },
        {
          "output_type": "display_data",
          "data": {
            "application/vnd.jupyter.widget-view+json": {
              "model_id": "27c4314e24ed48a0a5f82d797b27fadc",
              "version_minor": 0,
              "version_major": 2
            },
            "text/plain": [
              "KeplerGl(height=600)"
            ]
          },
          "metadata": {}
        }
      ]
    },
    {
      "cell_type": "code",
      "metadata": {
        "id": "xBAmMrtZyxcI"
      },
      "source": [
        "resize_for_databricks = '''\n",
        "  <script>\n",
        "    var targetHeight = \"{self.height or 600}px\";\n",
        "    window.setInterval(function() {{\n",
        "      if (document.body && document.body.style && document.body.style.height !== targetHeight) {{\n",
        "        document.body.style.height = targetHeight;\n",
        "      }}\n",
        "    }}, 2500)\n",
        "    </script>\n",
        "    '''\n",
        "orig_html   = keplergl.KeplerGl._repr_html_(map_1)\n",
        "better_html = (str(orig_html,'utf-8') + resize_for_databricks)\n",
        "\n",
        "import base64\n",
        "b64 = base64.b64encode(better_html.encode('utf-8'))\n",
        "src = f\"data:text/html;base64,{b64.decode('utf-8')}\"\n",
        "base64d_html = f'<iframe src=\"{src}\" style=\"width:100%; height: 600px\">'\n"
      ],
      "execution_count": 14,
      "outputs": []
    },
    {
      "cell_type": "code",
      "metadata": {
        "id": "weMM8FgLyxcJ",
        "outputId": "5377d5ab-334f-4768-8b41-2696334c436d",
        "colab": {
          "base_uri": "https://localhost:8080/",
          "height": 645
        }
      },
      "source": [
        "\n",
        "from IPython.core.display import HTML\n",
        "HTML(base64d_html)"
      ],
      "execution_count": 15,
      "outputs": [
        {
          "output_type": "execute_result",
          "data": {
            "text/html": [
              "<iframe src=\"data:text/html;base64,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\" style=\"width:100%; height: 600px\">"
            ],
            "text/plain": [
              "<IPython.core.display.HTML object>"
            ]
          },
          "metadata": {},
          "execution_count": 15
        }
      ]
    },
    {
      "cell_type": "code",
      "metadata": {
        "id": "ztaK7NAwyxcK"
      },
      "source": [
        ""
      ],
      "execution_count": null,
      "outputs": []
    }
  ]
}