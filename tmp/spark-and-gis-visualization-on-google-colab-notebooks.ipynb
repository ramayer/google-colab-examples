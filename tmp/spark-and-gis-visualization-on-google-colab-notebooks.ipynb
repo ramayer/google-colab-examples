{
 "cells": [
  {
   "cell_type": "markdown",
   "metadata": {
    "colab_type": "text",
    "id": "view-in-github"
   },
   "source": [
    "<a href=\"https://colab.research.google.com/github/ramayer/google-colab-examples/blob/main/tmp/spark-and-gis-visualization-on-google-colab-notebooks.ipynb\" target=\"_parent\"><img src=\"https://colab.research.google.com/assets/colab-badge.svg\" alt=\"Open In Colab\"/></a>"
   ]
  },
  {
   "cell_type": "markdown",
   "metadata": {
    "id": "7Zt05Nm882CQ"
   },
   "source": [
    "# Spark with GIS visualization In Kaggle Notebooks."
   ]
  },
  {
   "cell_type": "code",
   "execution_count": 31,
   "metadata": {
    "_cell_guid": "b1076dfc-b9ad-4769-8c92-a6c4dae69d19",
    "_uuid": "8f2839f25d086af736a60e9eeb907d3b93b6e0e5",
    "id": "95RZHO6b82CU"
   },
   "outputs": [],
   "source": [
    "# This Python 3 environment comes with many helpful analytics libraries installed\n",
    "# It is defined by the kaggle/python Docker image: https://github.com/kaggle/docker-python\n",
    "# For example, here's several helpful packages to load\n",
    "\n",
    "import numpy as np # linear algebra\n",
    "import pandas as pd # data processing, CSV file I/O (e.g. pd.read_csv)\n",
    "\n",
    "# Input data files are available in the read-only \"../input/\" directory\n",
    "# For example, running this (by clicking run or pressing Shift+Enter) will list all files under the input directory\n",
    "\n",
    "import os\n",
    "for dirname, _, filenames in os.walk('/kaggle/input'):\n",
    "    for filename in filenames:\n",
    "        print(os.path.join(dirname, filename))\n",
    "\n",
    "# You can write up to 20GB to the current directory (/kaggle/working/) that gets preserved as output when you create a version using \"Save & Run All\" \n",
    "# You can also write temporary files to /kaggle/temp/, but they won't be saved outside of the current session"
   ]
  },
  {
   "cell_type": "code",
   "execution_count": 17,
   "metadata": {
    "colab": {
     "base_uri": "https://localhost:8080/"
    },
    "id": "qnZf9I7I82CV",
    "outputId": "2b8f8c92-e01b-47ea-a3c9-8f4ff9084156"
   },
   "outputs": [
    {
     "name": "stdout",
     "output_type": "stream",
     "text": [
      "installing geopandas\n",
      "\u001b[33mWARNING: --use-feature=2020-resolver no longer has any effect, since it is now the default dependency resolver in pip. This will become an error in pip 21.0.\u001b[0m\n",
      "installing h3\n",
      "\u001b[33mWARNING: --use-feature=2020-resolver no longer has any effect, since it is now the default dependency resolver in pip. This will become an error in pip 21.0.\u001b[0m\n",
      "installing keplergl\n",
      "\u001b[33mWARNING: --use-feature=2020-resolver no longer has any effect, since it is now the default dependency resolver in pip. This will become an error in pip 21.0.\u001b[0m\n",
      "installing geocoder\n",
      "\u001b[33mWARNING: --use-feature=2020-resolver no longer has any effect, since it is now the default dependency resolver in pip. This will become an error in pip 21.0.\u001b[0m\n"
     ]
    }
   ],
   "source": [
    "required_packages = {\"keplergl\",\"geopandas\",\"h3\",\"geocoder\"}\n",
    "\n",
    "import pkg_resources\n",
    "for lib in required_packages - {pkg.key for pkg in pkg_resources.working_set}:\n",
    "  print(f\"installing {lib}\")\n",
    "  %pip install -q --upgrade pip\n",
    "  %pip install --use-feature=2020-resolver -q $lib"
   ]
  },
  {
   "cell_type": "code",
   "execution_count": 18,
   "metadata": {
    "colab": {
     "base_uri": "https://localhost:8080/"
    },
    "id": "acVKOgDC82CV",
    "outputId": "2c159282-5bf8-48df-af79-a31b149c2edc"
   },
   "outputs": [
    {
     "name": "stdout",
     "output_type": "stream",
     "text": [
      "Filesystem     1K-blocks     Used Available Use% Mounted on\n",
      "overlay        113008892 41058052  71934456  37% /\n",
      "tmpfs              65536        0     65536   0% /dev\n",
      "tmpfs            6666784        0   6666784   0% /sys/fs/cgroup\n",
      "shm              6160384        0   6160384   0% /dev/shm\n",
      "tmpfs            6666784       40   6666744   1% /var/colab\n",
      "/dev/sda1      119512108 42685628  76810096  36% /etc/hosts\n",
      "tmpfs            6666784        0   6666784   0% /proc/acpi\n",
      "tmpfs            6666784        0   6666784   0% /proc/scsi\n",
      "tmpfs            6666784        0   6666784   0% /sys/firmware\n"
     ]
    }
   ],
   "source": [
    "%%sh\n",
    "df"
   ]
  },
  {
   "cell_type": "code",
   "execution_count": 19,
   "metadata": {
    "colab": {
     "base_uri": "https://localhost:8080/"
    },
    "id": "lbJu7OuX82CV",
    "outputId": "8edc4201-edf5-4e62-cb5d-5561d878a7bd"
   },
   "outputs": [
    {
     "name": "stdout",
     "output_type": "stream",
     "text": [
      "sample_data\n"
     ]
    }
   ],
   "source": [
    "!sh -c ls"
   ]
  },
  {
   "cell_type": "code",
   "execution_count": 20,
   "metadata": {
    "colab": {
     "base_uri": "https://localhost:8080/"
    },
    "id": "n0H93lw682CV",
    "outputId": "4c7e94d8-dbf2-46d3-d126-a6e9ffc75824"
   },
   "outputs": [
    {
     "name": "stdout",
     "output_type": "stream",
     "text": [
      "Requirement already satisfied: pyspark in /usr/local/lib/python3.7/dist-packages (3.1.1)\n",
      "Requirement already satisfied: py4j==0.10.9 in /usr/local/lib/python3.7/dist-packages (from pyspark) (0.10.9)\n"
     ]
    }
   ],
   "source": [
    "!pip install pyspark"
   ]
  },
  {
   "cell_type": "code",
   "execution_count": 21,
   "metadata": {
    "colab": {
     "base_uri": "https://localhost:8080/",
     "height": 216
    },
    "id": "oQOIiQNS82CV",
    "outputId": "75bdc863-4c65-44fd-f625-5b76b7f71258"
   },
   "outputs": [
    {
     "data": {
      "text/html": [
       "\n",
       "            <div>\n",
       "                <p><b>SparkSession - hive</b></p>\n",
       "                \n",
       "        <div>\n",
       "            <p><b>SparkContext</b></p>\n",
       "\n",
       "            <p><a href=\"http://b659b522e0ec:4040\">Spark UI</a></p>\n",
       "\n",
       "            <dl>\n",
       "              <dt>Version</dt>\n",
       "                <dd><code>v3.1.1</code></dd>\n",
       "              <dt>Master</dt>\n",
       "                <dd><code>local[*]</code></dd>\n",
       "              <dt>AppName</dt>\n",
       "                <dd><code>MyApp</code></dd>\n",
       "            </dl>\n",
       "        </div>\n",
       "        \n",
       "            </div>\n",
       "        "
      ],
      "text/plain": [
       "<pyspark.sql.session.SparkSession at 0x7effed135050>"
      ]
     },
     "execution_count": 21,
     "metadata": {
      "tags": []
     },
     "output_type": "execute_result"
    }
   ],
   "source": [
    "import pyspark\n",
    "\n",
    "MAX_MEMORY = \"8g\"  # 24 gives OOM here.\n",
    "\n",
    "spark = (pyspark.sql.SparkSession.builder.appName(\"MyApp\") \n",
    "    .config(\"spark.jars.packages\", \"io.delta:delta-core_2.12:0.8.0\") \n",
    "    .config(\"spark.sql.extensions\", \"io.delta.sql.DeltaSparkSessionExtension\") \n",
    "    .config(\"spark.sql.catalog.spark_catalog\", \"org.apache.spark.sql.delta.catalog.DeltaCatalog\") \n",
    "    .config(\"spark.executor.memory\", MAX_MEMORY) \n",
    "    .config(\"spark.driver.memory\", MAX_MEMORY) \n",
    "    .enableHiveSupport() \n",
    "    .getOrCreate()        \n",
    "    )\n",
    "spark"
   ]
  },
  {
   "cell_type": "code",
   "execution_count": 22,
   "metadata": {
    "id": "TH4_oNtm82CW"
   },
   "outputs": [],
   "source": [
    "df = spark.createDataFrame([{'hi':'hello','w':'world'}])"
   ]
  },
  {
   "cell_type": "code",
   "execution_count": 23,
   "metadata": {
    "id": "PVY815iF82CW"
   },
   "outputs": [],
   "source": [
    " df.write.format('delta').mode('overwrite').option(\"mergeSchema\", \"true\").save('/tmp/delta1')"
   ]
  },
  {
   "cell_type": "code",
   "execution_count": 24,
   "metadata": {
    "colab": {
     "base_uri": "https://localhost:8080/",
     "height": 80
    },
    "id": "ePL6_k7182CW",
    "outputId": "19a1d3f0-39fc-4b5b-9e34-efbc5fc36c68"
   },
   "outputs": [
    {
     "data": {
      "text/html": [
       "<div>\n",
       "<style scoped>\n",
       "    .dataframe tbody tr th:only-of-type {\n",
       "        vertical-align: middle;\n",
       "    }\n",
       "\n",
       "    .dataframe tbody tr th {\n",
       "        vertical-align: top;\n",
       "    }\n",
       "\n",
       "    .dataframe thead th {\n",
       "        text-align: right;\n",
       "    }\n",
       "</style>\n",
       "<table border=\"1\" class=\"dataframe\">\n",
       "  <thead>\n",
       "    <tr style=\"text-align: right;\">\n",
       "      <th></th>\n",
       "      <th>hi</th>\n",
       "      <th>w</th>\n",
       "    </tr>\n",
       "  </thead>\n",
       "  <tbody>\n",
       "    <tr>\n",
       "      <th>0</th>\n",
       "      <td>hello</td>\n",
       "      <td>world</td>\n",
       "    </tr>\n",
       "  </tbody>\n",
       "</table>\n",
       "</div>"
      ],
      "text/plain": [
       "      hi      w\n",
       "0  hello  world"
      ]
     },
     "execution_count": 24,
     "metadata": {
      "tags": []
     },
     "output_type": "execute_result"
    }
   ],
   "source": [
    "df = spark.read.format('delta').load('/tmp/delta1')\n",
    "df.createOrReplaceTempView('d1')\n",
    "spark.sql('select * from d1').toPandas()"
   ]
  },
  {
   "cell_type": "code",
   "execution_count": 25,
   "metadata": {
    "id": "6SVavUt482CW"
   },
   "outputs": [],
   "source": [
    "import keplergl"
   ]
  },
  {
   "cell_type": "code",
   "execution_count": 26,
   "metadata": {
    "colab": {
     "base_uri": "https://localhost:8080/",
     "height": 34,
     "referenced_widgets": [
      "2b359ae3a50a4cef85fb0632b1eb96f1"
     ]
    },
    "id": "4IjsCZUD82CW",
    "outputId": "75bb05ac-1685-497c-9df3-0f48415eb3b2"
   },
   "outputs": [
    {
     "name": "stdout",
     "output_type": "stream",
     "text": [
      "User Guide: https://docs.kepler.gl/docs/keplergl-jupyter\n"
     ]
    },
    {
     "data": {
      "application/vnd.jupyter.widget-view+json": {
       "model_id": "2b359ae3a50a4cef85fb0632b1eb96f1",
       "version_major": 2,
       "version_minor": 0
      },
      "text/plain": [
       "KeplerGl(height=600)"
      ]
     },
     "metadata": {
      "tags": []
     },
     "output_type": "display_data"
    }
   ],
   "source": [
    "map_1 = keplergl.KeplerGl(height=600)\n",
    "map_1"
   ]
  },
  {
   "cell_type": "code",
   "execution_count": 39,
   "metadata": {
    "id": "jQ6WRIa-82CX"
   },
   "outputs": [],
   "source": [
    "resize_for_databricks = '''\n",
    "  <script>\n",
    "    var targetHeight = \"{self.height or 600}px\";\n",
    "    window.setInterval(function() {{\n",
    "      if (document.body && document.body.style && document.body.style.height !== targetHeight) {{\n",
    "        document.body.style.height = targetHeight;\n",
    "      }}\n",
    "    }}, 2500)\n",
    "    </script>\n",
    "    '''\n",
    "orig_html   = keplergl.KeplerGl._repr_html_(map_1)\n",
    "better_html = (str(orig_html,'utf-8') + resize_for_databricks)\n",
    "\n",
    "import base64\n",
    "b64 = base64.b64encode(better_html.encode('utf-8'))\n",
    "src = f\"data:text/html;base64,{b64.decode('utf-8')}\"\n",
    "base64d_html = f'<iframe src=\"{src}\" style=\"width:95%; height: 600px\">'\n"
   ]
  },
  {
   "cell_type": "code",
   "execution_count": 40,
   "metadata": {
    "colab": {
     "base_uri": "https://localhost:8080/",
     "height": 625
    },
    "id": "ZZdsHDYJ82CX",
    "outputId": "2cdba7a4-d941-48cc-98f6-05d6957db5e0"
   },
   "outputs": [
    {
     "data": {
      "text/html": [
       "<iframe src=\"data:text/html;base64,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\" style=\"width:95%; height: 600px\">"
      ],
      "text/plain": [
       "<IPython.core.display.HTML object>"
      ]
     },
     "execution_count": 40,
     "metadata": {
      "tags": []
     },
     "output_type": "execute_result"
    }
   ],
   "source": [
    "\n",
    "from IPython.core.display import HTML\n",
    "HTML(base64d_html)"
   ]
  },
  {
   "cell_type": "code",
   "execution_count": 28,
   "metadata": {
    "id": "QHYSMJYN833X"
   },
   "outputs": [],
   "source": []
  },
  {
   "cell_type": "code",
   "execution_count": 28,
   "metadata": {
    "id": "DtWOmJ6w82CX"
   },
   "outputs": [],
   "source": []
  }
 ],
 "metadata": {
  "colab": {
   "include_colab_link": true,
   "name": "spark-and-gis-visualization-on-kaggle-notebooks.ipynb",
   "provenance": []
  },
  "kernelspec": {
   "display_name": "Python 3",
   "language": "python",
   "name": "python3"
  },
  "language_info": {
   "codemirror_mode": {
    "name": "ipython",
    "version": 3
   },
   "file_extension": ".py",
   "mimetype": "text/x-python",
   "name": "python",
   "nbconvert_exporter": "python",
   "pygments_lexer": "ipython3",
   "version": "3.8.8"
  },
  "widgets": {
   "application/vnd.jupyter.widget-state+json": {
    "2b359ae3a50a4cef85fb0632b1eb96f1": {
     "model_module": "keplergl-jupyter",
     "model_name": "KeplerGlModal",
     "state": {
      "_dom_classes": [],
      "_model_module": "keplergl-jupyter",
      "_model_module_version": "^0.2.2",
      "_model_name": "KeplerGlModal",
      "_view_count": null,
      "_view_module": "keplergl-jupyter",
      "_view_module_version": "^0.2.2",
      "_view_name": "KeplerGlView",
      "config": {},
      "data": {},
      "height": 600,
      "layout": "IPY_MODEL_7c3b7150595c48f7a36003c7d5173eec",
      "value": "Hello World!"
     }
    }
   }
  }
 },
 "nbformat": 4,
 "nbformat_minor": 4
}
