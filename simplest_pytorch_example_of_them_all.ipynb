{
 "cells": [
  {
   "cell_type": "markdown",
   "id": "60eb78bd-67b9-4a26-af3e-faa26cde2aef",
   "metadata": {},
   "source": [
    "# This simplest Pytorch Example of them all\n",
    "\n",
    "Train a pytorch model to predict \n",
    "\n",
    "`f(x) = 2*x + 1`\n",
    "\n",
    "Should only require a single layer\n",
    "\n",
    "     input --> bias + weight * x --> output\n"
   ]
  },
  {
   "cell_type": "code",
   "execution_count": 1,
   "id": "6cab2800-674d-4395-aa82-a0a3b1475f60",
   "metadata": {},
   "outputs": [
    {
     "name": "stdout",
     "output_type": "stream",
     "text": [
      "2.4.0+cu121\n"
     ]
    }
   ],
   "source": [
    "import torch\n",
    "import torch.nn as nn\n",
    "print(torch.__version__)"
   ]
  },
  {
   "cell_type": "markdown",
   "id": "7ec0e250-f8ce-4ed8-a000-98329979b0ef",
   "metadata": {},
   "source": [
    "## Create Training data\n",
    "\n",
    "* Inputs = some numbers.\n",
    "* Outputs = 2*input + 1\n"
   ]
  },
  {
   "cell_type": "code",
   "execution_count": 5,
   "id": "c3901635-15da-4b8e-bfe8-8f07f56afc46",
   "metadata": {},
   "outputs": [
    {
     "name": "stdout",
     "output_type": "stream",
     "text": [
      "inputs = tensor([[0, 1, 2, 3, 4, 5, 6, 7, 8, 9]], dtype=torch.int32)\n",
      "outputs = tensor([[ 1,  3,  5,  7,  9, 11, 13, 15, 17, 19]], dtype=torch.int32)\n"
     ]
    }
   ],
   "source": [
    "training_inputs  = torch.tensor([[0,1,2,3,4,5,6,7,8,9]]).float().T\n",
    "\n",
    "target = training_inputs * 2 + 1\n",
    "\n",
    "print(f\"inputs = {training_inputs.T.int()}\\noutputs = {target.T.int()}\")"
   ]
  },
  {
   "cell_type": "markdown",
   "id": "e9b7eb5a",
   "metadata": {},
   "source": [
    "## Create the simplest pytorch neural network ever.   1 neuron. "
   ]
  },
  {
   "cell_type": "code",
   "execution_count": 6,
   "id": "69301594-b068-49b2-a48d-9a2dea242ff5",
   "metadata": {},
   "outputs": [],
   "source": [
    "# simplest model ever a 1x1 single layer network\n",
    "layer1    = nn.Linear(1,1, bias=True)\n",
    "model     = nn.Sequential(layer1)\n"
   ]
  },
  {
   "cell_type": "markdown",
   "id": "3d64c997",
   "metadata": {},
   "source": [
    "## Train the model.\n",
    "\n",
    "Should be very fast to train a one-dimensional linear (or not quite linear, because of the +1 .. I guess affine) mapping."
   ]
  },
  {
   "cell_type": "code",
   "execution_count": 7,
   "id": "bf50deec-844f-44c8-b0cf-8a69e6f813ee",
   "metadata": {},
   "outputs": [
    {
     "name": "stdout",
     "output_type": "stream",
     "text": [
      "Epoch: 0 | Loss: 62.8532\n",
      "Epoch: 10 | Loss: 0.0017\n",
      "Epoch: 20 | Loss: 0.0015\n",
      "Epoch: 30 | Loss: 0.0013\n",
      "Epoch: 40 | Loss: 0.0012\n",
      "Epoch: 50 | Loss: 0.0011\n",
      "Epoch: 60 | Loss: 0.0009\n",
      "Epoch: 70 | Loss: 0.0008\n",
      "Epoch: 80 | Loss: 0.0008\n",
      "Epoch: 90 | Loss: 0.0007\n"
     ]
    }
   ],
   "source": [
    "## training\n",
    "\n",
    "criterion = nn.MSELoss()\n",
    "optimizer = torch.optim.SGD(model.parameters(), lr=0.01)\n",
    "\n",
    "for i in range(100):\n",
    "    model = model.train()\n",
    "    \n",
    "    outputs = model(training_inputs)\n",
    "    loss = criterion(outputs, target)     # equivalent to: loss = torch.mean((output-target) ** 2)\n",
    "\n",
    "    optimizer.zero_grad()\n",
    "    loss.backward()\n",
    "    optimizer.step()\n",
    "\n",
    "    model.eval()\n",
    "    if i % 10 == 0:\n",
    "        print('Epoch: %d | Loss: %.4f' %(i, loss.detach().item()))"
   ]
  },
  {
   "cell_type": "markdown",
   "id": "aa50ea87",
   "metadata": {},
   "source": [
    "# Verify that the loss is good"
   ]
  },
  {
   "cell_type": "code",
   "execution_count": 8,
   "id": "1c8de36d-8f50-48e8-af41-b8528addd867",
   "metadata": {},
   "outputs": [
    {
     "data": {
      "text/plain": [
       "tensor(0.0006, grad_fn=<MseLossBackward0>)"
      ]
     },
     "execution_count": 8,
     "metadata": {},
     "output_type": "execute_result"
    }
   ],
   "source": [
    "loss"
   ]
  },
  {
   "cell_type": "markdown",
   "id": "70919403",
   "metadata": {},
   "source": [
    "## Inspect the model paramters.\n",
    "Make sure it really did something equivalent to `times 2 plus 1`"
   ]
  },
  {
   "cell_type": "code",
   "execution_count": 10,
   "id": "4d8efcc9-8277-48b8-969d-88b888f1c0ae",
   "metadata": {},
   "outputs": [
    {
     "data": {
      "text/plain": [
       "[Parameter containing:\n",
       " tensor([[2.0073]], requires_grad=True),\n",
       " Parameter containing:\n",
       " tensor([0.9544], requires_grad=True)]"
      ]
     },
     "execution_count": 10,
     "metadata": {},
     "output_type": "execute_result"
    }
   ],
   "source": [
    "list(model.parameters())"
   ]
  },
  {
   "cell_type": "markdown",
   "id": "4a10723b",
   "metadata": {},
   "source": [
    "## Run inferrence!\n",
    "\n",
    "See if it can predict `10 * 2 + 1`"
   ]
  },
  {
   "cell_type": "code",
   "execution_count": 11,
   "id": "beb29db0-db26-4646-91a7-9083d3be869d",
   "metadata": {},
   "outputs": [
    {
     "name": "stdout",
     "output_type": "stream",
     "text": [
      "21.4364070892334\n"
     ]
    }
   ],
   "source": [
    "## test the model\n",
    "sample = torch.tensor([10.0], dtype=torch.float)\n",
    "predicted = model(sample)\n",
    "print(predicted.detach().item())"
   ]
  },
  {
   "cell_type": "markdown",
   "id": "7462996f-f41d-4324-94aa-5047d08d9740",
   "metadata": {},
   "source": [
    "# inspect the parameters a different way"
   ]
  },
  {
   "cell_type": "code",
   "execution_count": 13,
   "id": "aa06793a-14a5-4826-b8c9-46b9da40d58a",
   "metadata": {},
   "outputs": [
    {
     "data": {
      "text/plain": [
       "'After training: weight: 2.1170175075531006 bias 0.2662309408187866'"
      ]
     },
     "execution_count": 13,
     "metadata": {},
     "output_type": "execute_result"
    }
   ],
   "source": [
    "l0 = [c for c in model.children()][0]\n",
    "\n",
    "f\"After training: weight: {l0.weight.item()} bias {l0.bias.item()}\""
   ]
  },
  {
   "cell_type": "markdown",
   "id": "2eccaa9f-31ee-446f-96d5-9d081b235705",
   "metadata": {},
   "source": [
    "## Prepare random test data"
   ]
  },
  {
   "cell_type": "code",
   "execution_count": 14,
   "id": "ceac04db-7c92-4b9d-97a7-d84b5757fcc9",
   "metadata": {},
   "outputs": [],
   "source": [
    "#Test on random test data.\n",
    "\n",
    "test_inputs      = torch.rand(5,1)  # torch.linspace(0,9,steps=10).view(-1, 1)\n",
    "expected_results = test_inputs * 2 + 1\n"
   ]
  },
  {
   "cell_type": "code",
   "execution_count": 16,
   "id": "b62a28e9-9e17-4734-bff3-817fd7ae18b4",
   "metadata": {},
   "outputs": [
    {
     "name": "stdout",
     "output_type": "stream",
     "text": [
      "tensor([[0.5323],\n",
      "        [1.2729],\n",
      "        [1.4577],\n",
      "        [0.3285],\n",
      "        [1.3650]])\n",
      "tensor([[1.2513],\n",
      "        [1.9511],\n",
      "        [2.1256],\n",
      "        [1.0588],\n",
      "        [2.0381]])\n"
     ]
    }
   ],
   "source": [
    "result = model(test_inputs).detach()\n",
    "print(result)\n",
    "print(expected_results)"
   ]
  },
  {
   "cell_type": "code",
   "execution_count": 145,
   "id": "eb5a7e1c-9049-4859-ab0c-751709423749",
   "metadata": {},
   "outputs": [],
   "source": [
    "#result.allclose(test_outputs,result)"
   ]
  },
  {
   "cell_type": "markdown",
   "id": "92ea832d-841b-482e-9fa4-f9b40891a327",
   "metadata": {},
   "source": [
    "## Yey\n",
    "\n",
    "Notes:\n",
    "\n",
    "* These are 3 different steps because if you have large training data sets you might run loss.backward() many times (which accumulates gradients) before running optimizer.step()\n",
    "\n",
    "\n",
    "    optimizer.zero_grad()\n",
    "    loss.backward()\n",
    "    optimizer.step()\n"
   ]
  },
  {
   "cell_type": "code",
   "execution_count": null,
   "id": "a978e321-8a86-4188-87c5-b32479db5c04",
   "metadata": {},
   "outputs": [],
   "source": []
  }
 ],
 "metadata": {
  "kernelspec": {
   "display_name": "3.12",
   "language": "python",
   "name": "python3"
  },
  "language_info": {
   "codemirror_mode": {
    "name": "ipython",
    "version": 3
   },
   "file_extension": ".py",
   "mimetype": "text/x-python",
   "name": "python",
   "nbconvert_exporter": "python",
   "pygments_lexer": "ipython3",
   "version": "3.12.4"
  }
 },
 "nbformat": 4,
 "nbformat_minor": 5
}
