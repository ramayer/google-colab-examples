{
  "nbformat": 4,
  "nbformat_minor": 0,
  "metadata": {
    "colab": {
      "name": "Spark Wordle",
      "provenance": [],
      "authorship_tag": "ABX9TyO+HiDchG+ywmolI0C93P4G",
      "include_colab_link": true
    },
    "kernelspec": {
      "name": "python3",
      "display_name": "Python 3"
    },
    "language_info": {
      "name": "python"
    }
  },
  "cells": [
    {
      "cell_type": "markdown",
      "metadata": {
        "id": "view-in-github",
        "colab_type": "text"
      },
      "source": [
        "<a href=\"https://colab.research.google.com/github/ramayer/google-colab-examples/blob/main/Spark_Wordle.ipynb\" target=\"_parent\"><img src=\"https://colab.research.google.com/assets/colab-badge.svg\" alt=\"Open In Colab\"/></a>"
      ]
    },
    {
      "cell_type": "code",
      "execution_count": null,
      "metadata": {
        "colab": {
          "base_uri": "https://localhost:8080/"
        },
        "id": "Q724hSdw5N_U",
        "outputId": "ededfd2f-5374-496f-ebc4-7e56d83d7467"
      },
      "outputs": [
        {
          "output_type": "stream",
          "name": "stdout",
          "text": [
            "Collecting pyspark\n",
            "  Downloading pyspark-3.2.1.tar.gz (281.4 MB)\n",
            "\u001b[K     |████████████████████████████████| 281.4 MB 35 kB/s \n",
            "\u001b[?25hCollecting py4j==0.10.9.3\n",
            "  Downloading py4j-0.10.9.3-py2.py3-none-any.whl (198 kB)\n",
            "\u001b[K     |████████████████████████████████| 198 kB 63.3 MB/s \n",
            "\u001b[?25hBuilding wheels for collected packages: pyspark\n",
            "  Building wheel for pyspark (setup.py) ... \u001b[?25l\u001b[?25hdone\n",
            "  Created wheel for pyspark: filename=pyspark-3.2.1-py2.py3-none-any.whl size=281853642 sha256=4aa46a273b510a5968b45b88d3002b462cb673db89b345c742d442b8f85cad03\n",
            "  Stored in directory: /root/.cache/pip/wheels/9f/f5/07/7cd8017084dce4e93e84e92efd1e1d5334db05f2e83bcef74f\n",
            "Successfully built pyspark\n",
            "Installing collected packages: py4j, pyspark\n",
            "Successfully installed py4j-0.10.9.3 pyspark-3.2.1\n"
          ]
        }
      ],
      "source": [
        "%pip install pyspark"
      ]
    },
    {
      "cell_type": "code",
      "source": [
        "import requests\n",
        "from collections import defaultdict\n",
        "\n",
        "# plagiarized from https://www.kaggle.com/yelbuzz/wordle-second-guess/script\n",
        "\n",
        "def getWordleWords():\n",
        "    wordledict = requests.get(\"https://raw.githubusercontent.com/andrew-t/gaming-wordle/main/words.json\").json()\n",
        "    solutions = wordledict[\"solutions\"]\n",
        "    guesses = wordledict[\"guesses\"]\n",
        "    return solutions, guesses\n",
        "\n",
        "def makeColorful(word, solution):\n",
        "    solutionlist = [c for c in solution]\n",
        "    wordleft = [c for c in word]\n",
        "    colorWord = [\"0\" for x in range(5)]\n",
        "    for i, c in enumerate(word):\n",
        "        if c == solution[i]:\n",
        "            solutionlist.remove(c)\n",
        "            wordleft[i] = \".\"\n",
        "            colorWord[i] = \"2\"\n",
        "    for i, c in enumerate(wordleft):\n",
        "        if c in solutionlist:\n",
        "            solutionlist.remove(c)\n",
        "            colorWord[i] = \"1\"\n",
        "    return \"\".join(colorWord)    \n",
        "\n",
        "solutions,guesses = getWordleWords()\n",
        "allWords = solutions + guesses"
      ],
      "metadata": {
        "id": "k0nK9XOl5SkM"
      },
      "execution_count": null,
      "outputs": []
    },
    {
      "cell_type": "code",
      "source": [
        "import pyspark\n",
        "\n",
        "MAX_MEMORY = \"8g\"  # 24 gives OOM here.\n",
        "\n",
        "spark = (pyspark.sql.SparkSession.builder.appName(\"MyApp\") \n",
        "    #.config(\"spark.jars.packages\", \"io.delta:delta-core_2.12:1.0.0\") \n",
        "    #.config(\"spark.sql.extensions\", \"io.delta.sql.DeltaSparkSessionExtension\") \n",
        "    #.config(\"spark.sql.catalog.spark_catalog\", \"org.apache.spark.sql.delta.catalog.DeltaCatalog\") \n",
        "    .config(\"spark.executor.memory\", MAX_MEMORY) \n",
        "    .config(\"spark.driver.memory\", MAX_MEMORY) \n",
        "    .enableHiveSupport() \n",
        "    .getOrCreate()        \n",
        "    )\n",
        "spark"
      ],
      "metadata": {
        "colab": {
          "base_uri": "https://localhost:8080/",
          "height": 219
        },
        "id": "tinWqglU5UnG",
        "outputId": "0c5a47e6-d36d-4503-c5c7-5ae1e6b3c42d"
      },
      "execution_count": null,
      "outputs": [
        {
          "output_type": "execute_result",
          "data": {
            "text/html": [
              "\n",
              "            <div>\n",
              "                <p><b>SparkSession - hive</b></p>\n",
              "                \n",
              "        <div>\n",
              "            <p><b>SparkContext</b></p>\n",
              "\n",
              "            <p><a href=\"http://96001184b1ae:4040\">Spark UI</a></p>\n",
              "\n",
              "            <dl>\n",
              "              <dt>Version</dt>\n",
              "                <dd><code>v3.2.1</code></dd>\n",
              "              <dt>Master</dt>\n",
              "                <dd><code>local[*]</code></dd>\n",
              "              <dt>AppName</dt>\n",
              "                <dd><code>MyApp</code></dd>\n",
              "            </dl>\n",
              "        </div>\n",
              "        \n",
              "            </div>\n",
              "        "
            ],
            "text/plain": [
              "<pyspark.sql.session.SparkSession at 0x7f3bb26512d0>"
            ]
          },
          "metadata": {},
          "execution_count": 3
        }
      ]
    },
    {
      "cell_type": "code",
      "source": [
        "allwords_df  = spark.createDataFrame([[w] for w in allWords] ,'guess string')\n",
        "solutions_df = spark.createDataFrame([[w] for w in solutions],'solution string')\n",
        "allwords_df.createOrReplaceTempView('all_words')\n",
        "solutions_df.createOrReplaceTempView('solutions')"
      ],
      "metadata": {
        "id": "13euBFW55WsA"
      },
      "execution_count": null,
      "outputs": []
    },
    {
      "cell_type": "code",
      "source": [
        "import pyspark.sql.functions as psf\n",
        "import pandas as pd\n",
        "@psf.pandas_udf('string')\n",
        "def make_colorful_udf(a:pd.Series,b:pd.Series) -> pd.Series:\n",
        "  return pd.Series([makeColorful(a,b) for a,b in zip(a.to_list(),b.to_list())])\n",
        "  #pdf = pd.concat([a,b],axis=1)\n",
        "  #return pdf.apply(lambda row: makeColorful(row[0],row[1]), axis=1)\n",
        "spark.udf.register(\"make_colorful\",make_colorful_udf)"
      ],
      "metadata": {
        "colab": {
          "base_uri": "https://localhost:8080/"
        },
        "id": "BoIPler75Y6G",
        "outputId": "6cffdb0a-2a5a-4638-b772-9c2248610bce"
      },
      "execution_count": null,
      "outputs": [
        {
          "output_type": "execute_result",
          "data": {
            "text/plain": [
              "<function __main__.make_colorful_udf>"
            ]
          },
          "metadata": {},
          "execution_count": 5
        }
      ]
    },
    {
      "cell_type": "code",
      "source": [
        "%%time\n",
        "spark.sql(\"\"\"\n",
        " with colors as (\n",
        "   select guess,\n",
        "          solution,\n",
        "          make_colorful(guess,solution) as colors\n",
        "    from all_words\n",
        "    join solutions\n",
        "  ),\n",
        "  guesses_with_colors as (\n",
        "      select \n",
        "          guess,\n",
        "          colors,\n",
        "          count(*)               as num_solutions,\n",
        "          collect_list(solution) as possible_solutions\n",
        "        from colors\n",
        "        group by guess,colors\n",
        "  )\n",
        "  select \n",
        "          guess,\n",
        "          count(case when num_solutions = 1 then 1 else null end) as number_of_unique_hints,\n",
        "          sum(1/num_solutions)                                    as maybe_a_better_score,\n",
        "          collect_list(struct(\n",
        "              colors,\n",
        "              num_solutions,\n",
        "              slice(possible_solutions,1,10) as some_solutions\n",
        "              )) as details\n",
        "     from guesses_with_colors\n",
        "     group by guess\n",
        "     order by number_of_unique_hints desc\n",
        "\"\"\").show(20,100)\n"
      ],
      "metadata": {
        "colab": {
          "base_uri": "https://localhost:8080/"
        },
        "id": "_Vcufe8j5bAm",
        "outputId": "5884086a-cc8d-44bb-80a8-c61323ed561b"
      },
      "execution_count": null,
      "outputs": [
        {
          "output_type": "stream",
          "name": "stdout",
          "text": [
            "+-----+----------------------+--------------------+----------------------------------------------------------------------------------------------------+\n",
            "|guess|number_of_unique_hints|maybe_a_better_score|                                                                                             details|\n",
            "+-----+----------------------+--------------------+----------------------------------------------------------------------------------------------------+\n",
            "|rotan|                    41|   56.91251891566862|[{00000, 256, [sissy, humph, blush, helix, whelp, cluck, spike, mimic, flesh, belly]}, {00002, 17...|\n",
            "|laten|                    41|   57.97724660056382|[{00000, 205, [sissy, humph, mimic, booby, ivory, shrub, civic, spicy, fjord, dowry]}, {00010, 16...|\n",
            "|tansy|                    40|  51.033341692847586|[{00110, 42, [spend, using, shown, slung, scorn, swine, risen, sheen, siren, snuck]}, {00112, 4, ...|\n",
            "|maron|                    40|   55.60352062876734|[{00011, 57, [pound, conic, sonic, point, knoll, found, snout, pinto, onset, ionic]}, {00100, 183...|\n",
            "|brute|                    40|   55.51856242200364|[{00000, 368, [sissy, focal, naval, colon, floss, mimic, maxim, offal, flick, loopy]}, {00021, 18...|\n",
            "|piler|                    40|   54.42083024909333|[{00002, 28, [major, motor, favor, sugar, humor, scour, manor, donor, augur, ardor]}, {00022, 79,...|\n",
            "|caron|                    40|  57.739216933868704|[{00011, 50, [pound, point, knoll, mount, month, found, snout, money, pinto, onset]}, {00022, 10,...|\n",
            "|chant|                    40|   53.73211878453496|[{00011, 19, [pinto, inter, stein, unite, minty, toxin, often, until, enter, junto]}, {00022, 15,...|\n",
            "|cauld|                    39|   51.01178957555066|[{00000, 490, [sissy, serve, stink, feign, fresh, sower, spike, booby, forth, first]}, {00010, 13...|\n",
            "|metro|                    39|  55.227427161935054|[{00020, 35, [dwarf, swirl, parry, shard, harry, hairy, angry, usurp, quirk, carry]}, {00021, 21,...|\n",
            "|spilt|                    39|   51.82787805327364|[{00010, 205, [focal, naval, model, colon, cluck, flume, offal, bleed, golem, labor]}, {00020, 60...|\n",
            "|shite|                    39|  55.432026798316166|[{00000, 349, [focal, naval, dwarf, karma, major, colon, marry, croak, crazy, cluck]}, {00020, 21...|\n",
            "|groma|                    39|   51.59617221949815|[{00000, 403, [sissy, blush, stink, quiet, bench, helix, unfed, whelp, cluck, spike]}, {00001, 35...|\n",
            "|plast|                    38|    52.9487321918069|[{00011, 44, [stink, steed, store, stove, zesty, story, fetus, smite, rusty, stick]}, {00101, 57,...|\n",
            "|chaft|                    38|   50.20336769616742|[{00000, 600, [sissy, serve, model, pride, sower, spike, pound, linen, booby, belly]}, {00102, 37...|\n",
            "|oater|                    38|  53.517562563986544|[{00000, 195, [sissy, humph, blush, cluck, mimic, flick, lying, civic, spicy, guild]}, {00001, 66...|\n",
            "|vinal|                    38|   52.01902167974686|[{00001, 156, [blush, floss, whelp, cluck, flesh, belly, flume, bleed, golem, lusty]}, {00010, 31...|\n",
            "|ligan|                    38|   55.54450728819478|[{00001, 122, [bench, unfed, pound, unmet, front, round, corny, spend, mount, month]}, {00022, 6,...|\n",
            "|beads|                    38|   50.52690972906376|[{00010, 76, [digit, pound, round, fjord, guild, dowry, dutch, world, duchy, drink]}, {00012, 1, ...|\n",
            "|plats|                    38|   49.49105061013751|[{00000, 406, [bench, feign, unfed, mimic, booby, ivory, bribe, error, wooer, biome]}, {00100, 20...|\n",
            "+-----+----------------------+--------------------+----------------------------------------------------------------------------------------------------+\n",
            "only showing top 20 rows\n",
            "\n",
            "CPU times: user 1.01 s, sys: 124 ms, total: 1.13 s\n",
            "Wall time: 3min 24s\n"
          ]
        }
      ]
    },
    {
      "cell_type": "code",
      "source": [
        "!cat /proc/cpuinfo"
      ],
      "metadata": {
        "colab": {
          "base_uri": "https://localhost:8080/"
        },
        "id": "0jmivEFI6n3K",
        "outputId": "eeb82210-c39a-4f01-ccdf-3bb86f529346"
      },
      "execution_count": null,
      "outputs": [
        {
          "output_type": "stream",
          "name": "stdout",
          "text": [
            "processor\t: 0\n",
            "vendor_id\t: GenuineIntel\n",
            "cpu family\t: 6\n",
            "model\t\t: 79\n",
            "model name\t: Intel(R) Xeon(R) CPU @ 2.20GHz\n",
            "stepping\t: 0\n",
            "microcode\t: 0x1\n",
            "cpu MHz\t\t: 2199.998\n",
            "cache size\t: 56320 KB\n",
            "physical id\t: 0\n",
            "siblings\t: 2\n",
            "core id\t\t: 0\n",
            "cpu cores\t: 1\n",
            "apicid\t\t: 0\n",
            "initial apicid\t: 0\n",
            "fpu\t\t: yes\n",
            "fpu_exception\t: yes\n",
            "cpuid level\t: 13\n",
            "wp\t\t: yes\n",
            "flags\t\t: fpu vme de pse tsc msr pae mce cx8 apic sep mtrr pge mca cmov pat pse36 clflush mmx fxsr sse sse2 ss ht syscall nx pdpe1gb rdtscp lm constant_tsc rep_good nopl xtopology nonstop_tsc cpuid tsc_known_freq pni pclmulqdq ssse3 fma cx16 pcid sse4_1 sse4_2 x2apic movbe popcnt aes xsave avx f16c rdrand hypervisor lahf_lm abm 3dnowprefetch invpcid_single ssbd ibrs ibpb stibp fsgsbase tsc_adjust bmi1 hle avx2 smep bmi2 erms invpcid rtm rdseed adx smap xsaveopt arat md_clear arch_capabilities\n",
            "bugs\t\t: cpu_meltdown spectre_v1 spectre_v2 spec_store_bypass l1tf mds swapgs taa\n",
            "bogomips\t: 4399.99\n",
            "clflush size\t: 64\n",
            "cache_alignment\t: 64\n",
            "address sizes\t: 46 bits physical, 48 bits virtual\n",
            "power management:\n",
            "\n",
            "processor\t: 1\n",
            "vendor_id\t: GenuineIntel\n",
            "cpu family\t: 6\n",
            "model\t\t: 79\n",
            "model name\t: Intel(R) Xeon(R) CPU @ 2.20GHz\n",
            "stepping\t: 0\n",
            "microcode\t: 0x1\n",
            "cpu MHz\t\t: 2199.998\n",
            "cache size\t: 56320 KB\n",
            "physical id\t: 0\n",
            "siblings\t: 2\n",
            "core id\t\t: 0\n",
            "cpu cores\t: 1\n",
            "apicid\t\t: 1\n",
            "initial apicid\t: 1\n",
            "fpu\t\t: yes\n",
            "fpu_exception\t: yes\n",
            "cpuid level\t: 13\n",
            "wp\t\t: yes\n",
            "flags\t\t: fpu vme de pse tsc msr pae mce cx8 apic sep mtrr pge mca cmov pat pse36 clflush mmx fxsr sse sse2 ss ht syscall nx pdpe1gb rdtscp lm constant_tsc rep_good nopl xtopology nonstop_tsc cpuid tsc_known_freq pni pclmulqdq ssse3 fma cx16 pcid sse4_1 sse4_2 x2apic movbe popcnt aes xsave avx f16c rdrand hypervisor lahf_lm abm 3dnowprefetch invpcid_single ssbd ibrs ibpb stibp fsgsbase tsc_adjust bmi1 hle avx2 smep bmi2 erms invpcid rtm rdseed adx smap xsaveopt arat md_clear arch_capabilities\n",
            "bugs\t\t: cpu_meltdown spectre_v1 spectre_v2 spec_store_bypass l1tf mds swapgs taa\n",
            "bogomips\t: 4399.99\n",
            "clflush size\t: 64\n",
            "cache_alignment\t: 64\n",
            "address sizes\t: 46 bits physical, 48 bits virtual\n",
            "power management:\n",
            "\n"
          ]
        }
      ]
    },
    {
      "cell_type": "code",
      "source": [
        "%%time\n",
        "spark.sql(\"\"\"\n",
        " select guess,\n",
        "          solution,\n",
        "          make_colorful(guess,solution) as colors\n",
        "    from all_words\n",
        "    join solutions\n",
        "    order by colors\n",
        "    \"\"\").show()"
      ],
      "metadata": {
        "colab": {
          "base_uri": "https://localhost:8080/"
        },
        "id": "ZWbo5ujMCYgQ",
        "outputId": "aa989b2a-163d-484d-975a-c9fddeb49d98"
      },
      "execution_count": null,
      "outputs": [
        {
          "output_type": "stream",
          "name": "stdout",
          "text": [
            "+-----+--------+------+\n",
            "|guess|solution|colors|\n",
            "+-----+--------+------+\n",
            "|cigar|   loopy| 00000|\n",
            "|cigar|   slosh| 00000|\n",
            "|cigar|   moult| 00000|\n",
            "|cigar|   unmet| 00000|\n",
            "|cigar|   spend| 00000|\n",
            "|cigar|   model| 00000|\n",
            "|cigar|   thumb| 00000|\n",
            "|cigar|   floss| 00000|\n",
            "|cigar|   tweed| 00000|\n",
            "|cigar|   whelp| 00000|\n",
            "|cigar|   steed| 00000|\n",
            "|cigar|   lusty| 00000|\n",
            "|cigar|   dozen| 00000|\n",
            "|cigar|   flesh| 00000|\n",
            "|cigar|   boozy| 00000|\n",
            "|cigar|   belly| 00000|\n",
            "|cigar|   pulpy| 00000|\n",
            "|cigar|   stout| 00000|\n",
            "|cigar|   solve| 00000|\n",
            "|cigar|   bleed| 00000|\n",
            "+-----+--------+------+\n",
            "only showing top 20 rows\n",
            "\n",
            "CPU times: user 635 ms, sys: 90.1 ms, total: 725 ms\n",
            "Wall time: 2min 13s\n"
          ]
        }
      ]
    }
  ]
}