{
  "nbformat": 4,
  "nbformat_minor": 0,
  "metadata": {
    "colab": {
      "name": "Apache Solr in Google Colab.ipynb",
      "provenance": [],
      "collapsed_sections": [],
      "toc_visible": true,
      "include_colab_link": true
    },
    "kernelspec": {
      "name": "python3",
      "display_name": "Python 3"
    }
  },
  "cells": [
    {
      "cell_type": "markdown",
      "metadata": {
        "id": "view-in-github",
        "colab_type": "text"
      },
      "source": [
        "<a href=\"https://colab.research.google.com/github/ramayer/google-colab-examples/blob/main/Apache_Solr_in_Google_Colab.ipynb\" target=\"_parent\"><img src=\"https://colab.research.google.com/assets/colab-badge.svg\" alt=\"Open In Colab\"/></a>"
      ]
    },
    {
      "cell_type": "markdown",
      "metadata": {
        "id": "kvD4HBMi0ohY"
      },
      "source": [
        "# Install and run Solr on a Google Colab instance\n"
      ]
    },
    {
      "cell_type": "code",
      "metadata": {
        "colab": {
          "base_uri": "https://localhost:8080/"
        },
        "id": "aTI55dLx8GFy",
        "outputId": "c202b823-ec85-4290-c088-f678b3c862f5"
      },
      "source": [
        "!java -version"
      ],
      "execution_count": 1,
      "outputs": [
        {
          "output_type": "stream",
          "name": "stdout",
          "text": [
            "openjdk version \"11.0.11\" 2021-04-20\n",
            "OpenJDK Runtime Environment (build 11.0.11+9-Ubuntu-0ubuntu2.18.04)\n",
            "OpenJDK 64-Bit Server VM (build 11.0.11+9-Ubuntu-0ubuntu2.18.04, mixed mode, sharing)\n"
          ]
        }
      ]
    },
    {
      "cell_type": "code",
      "metadata": {
        "id": "s5sqkfxXVd9m",
        "colab": {
          "base_uri": "https://localhost:8080/"
        },
        "outputId": "a2b63ffe-062e-4585-a031-7d517ffb3912"
      },
      "source": [
        "!wget -nc https://downloads.apache.org/lucene/solr/8.10.1/solr-8.10.1.tgz\n",
        "!tar xf solr-8.10.1.tgz"
      ],
      "execution_count": 2,
      "outputs": [
        {
          "output_type": "stream",
          "name": "stdout",
          "text": [
            "--2021-10-25 21:07:51--  https://downloads.apache.org/lucene/solr/8.10.1/solr-8.10.1.tgz\n",
            "Resolving downloads.apache.org (downloads.apache.org)... 88.99.95.219, 135.181.214.104, 2a01:4f9:3a:2c57::2, ...\n",
            "Connecting to downloads.apache.org (downloads.apache.org)|88.99.95.219|:443... connected.\n",
            "HTTP request sent, awaiting response... 200 OK\n",
            "Length: 217254401 (207M) [application/x-gzip]\n",
            "Saving to: ‘solr-8.10.1.tgz’\n",
            "\n",
            "solr-8.10.1.tgz     100%[===================>] 207.19M  25.9MB/s    in 8.9s    \n",
            "\n",
            "2021-10-25 21:08:00 (23.3 MB/s) - ‘solr-8.10.1.tgz’ saved [217254401/217254401]\n",
            "\n"
          ]
        }
      ]
    },
    {
      "cell_type": "code",
      "metadata": {
        "colab": {
          "base_uri": "https://localhost:8080/"
        },
        "id": "zeozusPw8quc",
        "outputId": "c12eeda7-7cae-4632-d2dc-a6f7c5bf2b61"
      },
      "source": [
        "!(cd solr-8.10.1; ./bin/solr -e cloud -noprompt -force)"
      ],
      "execution_count": 31,
      "outputs": [
        {
          "output_type": "stream",
          "name": "stdout",
          "text": [
            "\n",
            "Welcome to the SolrCloud example!\n",
            "\n",
            "Starting up 2 Solr nodes for your example SolrCloud cluster.\n",
            "\n",
            "Solr home directory /content/solr-8.10.1/example/cloud/node1/solr already exists.\n",
            "/content/solr-8.10.1/example/cloud/node2 already exists.\n",
            "\n",
            "Starting up Solr on port 8983 using command:\n",
            "\"bin/solr\" start -cloud -p 8983 -s \"example/cloud/node1/solr\" -force\n",
            "\n",
            "Waiting up to 180 seconds to see Solr running on port 8983 [|]  \b\b\b\b\b\b [/]  \b\b\b\b\b\b [-]  \b\b\b\b\b\b [\\]  \b\b\b\b\b\b [|]  \b\b\b\b\b\b [/]  \b\b\b\b\b\b [-]  \b\b\b\b\b\b [\\]  \b\b\b\b\b\b [|]  \b\b\b\b\b\b [/]  \b\b\b\b\b\b [-]  \b\b\b\b\b\b [\\]  \b\b\b\b\b\b [|]  \b\b\b\b\b\b [/]  \b\b\b\b\b\b [-]  \b\b\b\b\b\b [\\]  \b\b\b\b\b\b [|]  \b\b\b\b\b\b [/]  \b\b\b\b\b\b [-]  \n",
            "Started Solr server on port 8983 (pid=985). Happy searching!\n",
            "\n",
            "\b\b\b\b\b\b    \b\b\b\b\n",
            "Starting up Solr on port 7574 using command:\n",
            "\"bin/solr\" start -cloud -p 7574 -s \"example/cloud/node2/solr\" -z localhost:9983 -force\n",
            "\n",
            "Waiting up to 180 seconds to see Solr running on port 7574 [|]  \b\b\b\b\b\b [/]  \b\b\b\b\b\b [-]  \b\b\b\b\b\b [\\]  \b\b\b\b\b\b [|]  \b\b\b\b\b\b [/]  \b\b\b\b\b\b [-]  \b\b\b\b\b\b [\\]  \b\b\b\b\b\b [|]  \b\b\b\b\b\b [/]  \b\b\b\b\b\b [-]  \b\b\b\b\b\b [\\]  \b\b\b\b\b\b [|]  \b\b\b\b\b\b [/]  \n",
            "Started Solr server on port 7574 (pid=1224). Happy searching!\n",
            "\n",
            "\b\b\b\b\b\b    \b\b\b\bINFO  - 2021-10-25 21:27:37.752; org.apache.solr.common.cloud.ConnectionManager; Waiting for client to connect to ZooKeeper\n",
            "INFO  - 2021-10-25 21:27:37.818; org.apache.solr.common.cloud.ConnectionManager; zkClient has connected\n",
            "INFO  - 2021-10-25 21:27:37.818; org.apache.solr.common.cloud.ConnectionManager; Client is connected to ZooKeeper\n",
            "INFO  - 2021-10-25 21:27:37.843; org.apache.solr.common.cloud.ZkStateReader; Updated live nodes from ZooKeeper... (0) -> (2)\n",
            "INFO  - 2021-10-25 21:27:37.870; org.apache.solr.client.solrj.impl.ZkClientClusterStateProvider; Cluster at localhost:9983 ready\n",
            "WARN  - 2021-10-25 21:27:37.879; org.apache.zookeeper.ClientCnxn; An exception was thrown while closing send thread for session 0x1000013c80a0003. => EndOfStreamException: Unable to read additional data from server sessionid 0x1000013c80a0003, likely server has closed socket\n",
            "\tat org.apache.zookeeper.ClientCnxnSocketNIO.doIO(ClientCnxnSocketNIO.java:77)\n",
            "org.apache.zookeeper.ClientCnxn$EndOfStreamException: Unable to read additional data from server sessionid 0x1000013c80a0003, likely server has closed socket\n",
            "\tat org.apache.zookeeper.ClientCnxnSocketNIO.doIO(ClientCnxnSocketNIO.java:77) ~[zookeeper-3.6.2.jar:3.6.2]\n",
            "\tat org.apache.zookeeper.ClientCnxnSocketNIO.doTransport(ClientCnxnSocketNIO.java:350) ~[zookeeper-3.6.2.jar:3.6.2]\n",
            "\tat org.apache.zookeeper.ClientCnxn$SendThread.run(ClientCnxn.java:1275) ~[zookeeper-3.6.2.jar:3.6.2]\n",
            "Created collection 'gettingstarted' with 2 shard(s), 2 replica(s) with config-set 'gettingstarted'\n",
            "\n",
            "Enabling auto soft-commits with maxTime 3 secs using the Config API\n",
            "\n",
            "POSTing request to Config API: http://localhost:8983/solr/gettingstarted/config\n",
            "{\"set-property\":{\"updateHandler.autoSoftCommit.maxTime\":\"3000\"}}\n",
            "Successfully set-property updateHandler.autoSoftCommit.maxTime to 3000\n",
            "\n",
            "\n",
            "SolrCloud example running, please visit: http://localhost:8983/solr \n",
            "\n"
          ]
        }
      ]
    },
    {
      "cell_type": "markdown",
      "metadata": {
        "id": "7XBprQnuSThM"
      },
      "source": [
        "## Use solr"
      ]
    },
    {
      "cell_type": "code",
      "metadata": {
        "id": "1gipibKuSgNi"
      },
      "source": [
        "%pip install -q pysolr kazoo"
      ],
      "execution_count": 8,
      "outputs": []
    },
    {
      "cell_type": "code",
      "metadata": {
        "id": "2HDGUHbPSbkY"
      },
      "source": [
        "import requests\n",
        "import pysolr\n",
        "import json\n",
        "solr_zk_hosts = ['localhost:9983']\n",
        "zookeeper     = pysolr.ZooKeeper(\",\".join(solr_zk_hosts))\n",
        "collection    = list(zookeeper.collections.keys())[0]\n",
        "solr          = pysolr.SolrCloud(zookeeper,collection,timeout=60)\n"
      ],
      "execution_count": 7,
      "outputs": []
    },
    {
      "cell_type": "code",
      "metadata": {
        "id": "Lwv8q_69SbX6",
        "outputId": "158ae343-472b-4f9b-d881-9ed38332eaa6",
        "colab": {
          "base_uri": "https://localhost:8080/"
        }
      },
      "source": [
        "resp = requests.get(\"http://localhost:8983/solr/admin/collections?action=DELETE&name=collection1\").json()\n",
        "resp = requests.get(\"http://localhost:8983/solr/admin/collections?action=CREATE&name=collection1&numShards=1\").json()\n",
        "resp = requests.post(\"http://localhost:8983/solr/collection1/schema\", \n",
        "                  json={\n",
        "                      \"add-field\": [\n",
        "                         {\"name\":\"timestamp\", \"type\":\"pdate\", \"indexed\":\"True\",\"stored\":\"True\",\"default\":\"NOW\"},\n",
        "                        ]\n",
        "                      }\n",
        "                  ).json()\n",
        "print(json.dumps(resp,indent=1))"
      ],
      "execution_count": 42,
      "outputs": [
        {
          "output_type": "stream",
          "name": "stdout",
          "text": [
            "{\n",
            " \"responseHeader\": {\n",
            "  \"status\": 0,\n",
            "  \"QTime\": 425\n",
            " }\n",
            "}\n"
          ]
        }
      ]
    },
    {
      "cell_type": "code",
      "metadata": {
        "id": "rb_ZO47qdPxw",
        "outputId": "f81e1b53-7003-41e1-ba35-52e460148eb6",
        "colab": {
          "base_uri": "https://localhost:8080/"
        }
      },
      "source": [
        "resp = requests.get(\"http://localhost:8983/solr/collection1/schema\")\n",
        "print(json.dumps(resp.json()['schema']['fields'],indent=1))"
      ],
      "execution_count": 40,
      "outputs": [
        {
          "output_type": "stream",
          "name": "stdout",
          "text": [
            "[\n",
            " {\n",
            "  \"name\": \"_nest_path_\",\n",
            "  \"type\": \"_nest_path_\"\n",
            " },\n",
            " {\n",
            "  \"name\": \"_root_\",\n",
            "  \"type\": \"string\",\n",
            "  \"docValues\": false,\n",
            "  \"indexed\": true,\n",
            "  \"stored\": false\n",
            " },\n",
            " {\n",
            "  \"name\": \"_text_\",\n",
            "  \"type\": \"text_general\",\n",
            "  \"multiValued\": true,\n",
            "  \"indexed\": true,\n",
            "  \"stored\": false\n",
            " },\n",
            " {\n",
            "  \"name\": \"_version_\",\n",
            "  \"type\": \"plong\",\n",
            "  \"indexed\": false,\n",
            "  \"stored\": false\n",
            " },\n",
            " {\n",
            "  \"name\": \"id\",\n",
            "  \"type\": \"string\",\n",
            "  \"multiValued\": false,\n",
            "  \"indexed\": true,\n",
            "  \"required\": true,\n",
            "  \"stored\": true\n",
            " },\n",
            " {\n",
            "  \"name\": \"timestamp\",\n",
            "  \"type\": \"pdate\",\n",
            "  \"indexed\": true,\n",
            "  \"default\": \"NOW\"\n",
            " }\n",
            "]\n"
          ]
        }
      ]
    },
    {
      "cell_type": "code",
      "metadata": {
        "id": "D-d97BjweKhr",
        "outputId": "b25572b6-a836-4bfe-b28c-010e16dd9d83",
        "colab": {
          "base_uri": "https://localhost:8080/"
        }
      },
      "source": [
        "resp.json()"
      ],
      "execution_count": 34,
      "outputs": [
        {
          "output_type": "execute_result",
          "data": {
            "text/plain": [
              "{'error': {'code': 400,\n",
              "  'details': [{'add-field': {'default': 'NOW',\n",
              "     'indexed': 'True',\n",
              "     'name': 'timestamp',\n",
              "     'type': 'pdate'},\n",
              "    'errorMessages': [\"Field 'timestamp' already exists.\\n\"]}],\n",
              "  'metadata': ['error-class',\n",
              "   'org.apache.solr.api.ApiBag$ExceptionWithErrObject',\n",
              "   'root-error-class',\n",
              "   'org.apache.solr.api.ApiBag$ExceptionWithErrObject'],\n",
              "  'msg': \"error processing commands, errors: [{add-field={name=timestamp, type=pdate, indexed=True, default=NOW}, errorMessages=[Field 'timestamp' already exists.\\n]}], \"},\n",
              " 'responseHeader': {'QTime': 82, 'status': 400}}"
            ]
          },
          "metadata": {},
          "execution_count": 34
        }
      ]
    },
    {
      "cell_type": "code",
      "metadata": {
        "colab": {
          "base_uri": "https://localhost:8080/"
        },
        "id": "7M6k-fzC-UIV",
        "outputId": "a4b3619b-01c5-4e9f-a302-5c4fb3f05a27"
      },
      "source": [
        "!nmap -p 9000-9999 localhost"
      ],
      "execution_count": 48,
      "outputs": [
        {
          "output_type": "stream",
          "name": "stdout",
          "text": [
            "\n",
            "Starting Nmap 7.60 ( https://nmap.org ) at 2021-10-25 21:39 UTC\n",
            "Nmap scan report for localhost (127.0.0.1)\n",
            "Host is up (0.0000050s latency).\n",
            "Other addresses for localhost (not scanned): ::1\n",
            "Not shown: 999 closed ports\n",
            "PORT     STATE SERVICE\n",
            "9983/tcp open  unknown\n",
            "\n",
            "Nmap done: 1 IP address (1 host up) scanned in 1.62 seconds\n"
          ]
        }
      ]
    },
    {
      "cell_type": "markdown",
      "metadata": {
        "id": "j2phfJTf_AEd"
      },
      "source": [
        "Expose solr using ngrok"
      ]
    },
    {
      "cell_type": "code",
      "metadata": {
        "colab": {
          "base_uri": "https://localhost:8080/"
        },
        "id": "z16eSBSg90yH",
        "outputId": "66afed46-af8c-427b-9640-b7fc8620ea86"
      },
      "source": [
        "!wget -nc https://bin.equinox.io/c/4VmDzA7iaHb/ngrok-stable-linux-amd64.zip\n",
        "!unzip -n ngrok-stable-linux-amd64.zip\n",
        "#get_ipython().system_raw('./ngrok http 4050 &')\n",
        "!curl -s http://localhost:4040/api/tunnels\n",
        "\n",
        "# !(sh -c \"nohup ./ngrok http 8983 &\") ; echo \"started ngrok\"1\n",
        "# !curl http://localhost:4040/api/tunnels"
      ],
      "execution_count": null,
      "outputs": [
        {
          "output_type": "stream",
          "name": "stdout",
          "text": [
            "File ‘ngrok-stable-linux-amd64.zip’ already there; not retrieving.\n",
            "\n",
            "Archive:  ngrok-stable-linux-amd64.zip\n"
          ]
        }
      ]
    },
    {
      "cell_type": "code",
      "metadata": {
        "id": "SpaZotSY_3l1",
        "colab": {
          "base_uri": "https://localhost:8080/"
        },
        "outputId": "08095d79-e4b6-4266-83d6-595abdf043c3"
      },
      "source": [
        "%pip install pysolr"
      ],
      "execution_count": null,
      "outputs": [
        {
          "output_type": "stream",
          "name": "stdout",
          "text": [
            "Requirement already satisfied: pysolr in /usr/local/lib/python3.7/dist-packages (3.9.0)\n",
            "Requirement already satisfied: requests>=2.9.1 in /usr/local/lib/python3.7/dist-packages (from pysolr) (2.23.0)\n",
            "Requirement already satisfied: idna<3,>=2.5 in /usr/local/lib/python3.7/dist-packages (from requests>=2.9.1->pysolr) (2.10)\n",
            "Requirement already satisfied: chardet<4,>=3.0.2 in /usr/local/lib/python3.7/dist-packages (from requests>=2.9.1->pysolr) (3.0.4)\n",
            "Requirement already satisfied: urllib3!=1.25.0,!=1.25.1,<1.26,>=1.21.1 in /usr/local/lib/python3.7/dist-packages (from requests>=2.9.1->pysolr) (1.24.3)\n",
            "Requirement already satisfied: certifi>=2017.4.17 in /usr/local/lib/python3.7/dist-packages (from requests>=2.9.1->pysolr) (2021.5.30)\n"
          ]
        }
      ]
    },
    {
      "cell_type": "code",
      "metadata": {
        "id": "FAf7gNfGCQin"
      },
      "source": [
        "import pysolr\n",
        "\n",
        "solr = pysolr.Solr('http://localhost:8983/solr/test_collection')"
      ],
      "execution_count": null,
      "outputs": []
    },
    {
      "cell_type": "code",
      "metadata": {
        "id": "ioEeKE0TFBIB",
        "colab": {
          "base_uri": "https://localhost:8080/",
          "height": 35
        },
        "outputId": "c552e758-770e-46b4-c082-277f71e0ff5c"
      },
      "source": [
        "solr.add([{'id':1,'text':'hello'}])\n"
      ],
      "execution_count": null,
      "outputs": [
        {
          "output_type": "execute_result",
          "data": {
            "application/vnd.google.colaboratory.intrinsic+json": {
              "type": "string"
            },
            "text/plain": [
              "'{\\n  \"responseHeader\":{\\n    \"rf\":1,\\n    \"status\":0,\\n    \"QTime\":459}}\\n'"
            ]
          },
          "metadata": {},
          "execution_count": 79
        }
      ]
    },
    {
      "cell_type": "code",
      "metadata": {
        "id": "mX8IKSpXFBFM",
        "colab": {
          "base_uri": "https://localhost:8080/"
        },
        "outputId": "336f5c11-3dc5-4865-a4f1-10249ce7392b"
      },
      "source": [
        "results = solr.search('hello')\n",
        "results.raw_response"
      ],
      "execution_count": null,
      "outputs": [
        {
          "output_type": "execute_result",
          "data": {
            "text/plain": [
              "{'response': {'docs': [], 'numFound': 0, 'numFoundExact': True, 'start': 0},\n",
              " 'responseHeader': {'QTime': 1,\n",
              "  'params': {'q': 'hello', 'wt': 'json'},\n",
              "  'status': 0,\n",
              "  'zkConnected': True}}"
            ]
          },
          "metadata": {},
          "execution_count": 83
        }
      ]
    },
    {
      "cell_type": "code",
      "metadata": {
        "id": "O_-QqY5OVIQf",
        "outputId": "2f5b59d1-fa2c-4ef8-d36f-2a53b1850c9e",
        "colab": {
          "base_uri": "https://localhost:8080/"
        }
      },
      "source": [
        "!curl http://localhost:8983/solr/admin/collections?action=OVERSEERSTATUS"
      ],
      "execution_count": 26,
      "outputs": [
        {
          "output_type": "stream",
          "name": "stdout",
          "text": [
            "{\n",
            "  \"responseHeader\":{\n",
            "    \"status\":0,\n",
            "    \"QTime\":31},\n",
            "  \"leader\":\"172.28.0.2:8983_solr\",\n",
            "  \"overseer_queue_size\":0,\n",
            "  \"overseer_work_queue_size\":0,\n",
            "  \"overseer_collection_queue_size\":2,\n",
            "  \"overseer_operations\":[\n",
            "    \"leader\",{\n",
            "      \"requests\":2,\n",
            "      \"errors\":0,\n",
            "      \"avgRequestsPerSecond\":0.0046353395315971305,\n",
            "      \"5minRateRequestsPerSecond\":0.04982600162237955,\n",
            "      \"15minRateRequestsPerSecond\":0.12553928476507112,\n",
            "      \"avgTimePerRequest\":0.1775740744746507,\n",
            "      \"medianRequestTime\":0.157514,\n",
            "      \"75thPcRequestTime\":0.157514,\n",
            "      \"95thPcRequestTime\":0.376659,\n",
            "      \"99thPcRequestTime\":0.376659,\n",
            "      \"999thPcRequestTime\":0.376659},\n",
            "    \"delete\",{\n",
            "      \"requests\":1,\n",
            "      \"errors\":0,\n",
            "      \"avgRequestsPerSecond\":0.003556563443032423,\n",
            "      \"5minRateRequestsPerSecond\":0.0799699308689695,\n",
            "      \"15minRateRequestsPerSecond\":0.14734279502767977,\n",
            "      \"avgTimePerRequest\":0.089957,\n",
            "      \"medianRequestTime\":0.089957,\n",
            "      \"75thPcRequestTime\":0.089957,\n",
            "      \"95thPcRequestTime\":0.089957,\n",
            "      \"99thPcRequestTime\":0.089957,\n",
            "      \"999thPcRequestTime\":0.089957},\n",
            "    \"addreplica\",{\n",
            "      \"requests\":2,\n",
            "      \"errors\":0,\n",
            "      \"avgRequestsPerSecond\":0.004603046167419057,\n",
            "      \"5minRateRequestsPerSecond\":0.04982600162237955,\n",
            "      \"15minRateRequestsPerSecond\":0.12553928476507112,\n",
            "      \"avgTimePerRequest\":6.029924800658535,\n",
            "      \"medianRequestTime\":5.431927,\n",
            "      \"75thPcRequestTime\":5.431927,\n",
            "      \"95thPcRequestTime\":12.145457,\n",
            "      \"99thPcRequestTime\":12.145457,\n",
            "      \"999thPcRequestTime\":12.145457},\n",
            "    \"am_i_leader\",{\n",
            "      \"requests\":283,\n",
            "      \"errors\":0,\n",
            "      \"avgRequestsPerSecond\":0.3433336357197541,\n",
            "      \"5minRateRequestsPerSecond\":0.3594867358826862,\n",
            "      \"15minRateRequestsPerSecond\":0.4468526087072228,\n",
            "      \"avgTimePerRequest\":0.7024286776238974,\n",
            "      \"medianRequestTime\":0.66447,\n",
            "      \"75thPcRequestTime\":0.737794,\n",
            "      \"95thPcRequestTime\":0.993397,\n",
            "      \"99thPcRequestTime\":1.486926,\n",
            "      \"999thPcRequestTime\":1.486926},\n",
            "    \"create\",{\n",
            "      \"requests\":2,\n",
            "      \"errors\":0,\n",
            "      \"avgRequestsPerSecond\":0.004601598818018839,\n",
            "      \"5minRateRequestsPerSecond\":0.04982600162237955,\n",
            "      \"15minRateRequestsPerSecond\":0.12553928476507112,\n",
            "      \"avgTimePerRequest\":1.0460108569588524,\n",
            "      \"medianRequestTime\":0.166231,\n",
            "      \"75thPcRequestTime\":0.166231,\n",
            "      \"95thPcRequestTime\":10.043238,\n",
            "      \"99thPcRequestTime\":10.043238,\n",
            "      \"999thPcRequestTime\":10.043238},\n",
            "    \"update_state\",{\n",
            "      \"requests\":12,\n",
            "      \"errors\":0,\n",
            "      \"avgRequestsPerSecond\":0.027610241965911504,\n",
            "      \"5minRateRequestsPerSecond\":0.2518402246540991,\n",
            "      \"15minRateRequestsPerSecond\":0.6293426696715103,\n",
            "      \"avgTimePerRequest\":5.5367345170249465,\n",
            "      \"medianRequestTime\":4.746885,\n",
            "      \"75thPcRequestTime\":6.504186,\n",
            "      \"95thPcRequestTime\":8.023038,\n",
            "      \"99thPcRequestTime\":11.278641,\n",
            "      \"999thPcRequestTime\":11.278641},\n",
            "    \"state\",{\n",
            "      \"requests\":4,\n",
            "      \"errors\":0,\n",
            "      \"avgRequestsPerSecond\":0.009212110379514638,\n",
            "      \"5minRateRequestsPerSecond\":0.0996742176286597,\n",
            "      \"15minRateRequestsPerSecond\":0.25108311715896914,\n",
            "      \"avgTimePerRequest\":0.3791512155252249,\n",
            "      \"medianRequestTime\":0.191186,\n",
            "      \"75thPcRequestTime\":0.191186,\n",
            "      \"95thPcRequestTime\":0.212042,\n",
            "      \"99thPcRequestTime\":4.870997,\n",
            "      \"999thPcRequestTime\":4.870997},\n",
            "    \"deletecore\",{\n",
            "      \"requests\":1,\n",
            "      \"errors\":0,\n",
            "      \"avgRequestsPerSecond\":0.0035563229819585303,\n",
            "      \"5minRateRequestsPerSecond\":0.0799699308689695,\n",
            "      \"15minRateRequestsPerSecond\":0.14734279502767977,\n",
            "      \"avgTimePerRequest\":0.190429,\n",
            "      \"medianRequestTime\":0.190429,\n",
            "      \"75thPcRequestTime\":0.190429,\n",
            "      \"95thPcRequestTime\":0.190429,\n",
            "      \"99thPcRequestTime\":0.190429,\n",
            "      \"999thPcRequestTime\":0.190429}],\n",
            "  \"collection_operations\":[\n",
            "    \"am_i_leader\",{\n",
            "      \"requests\":416,\n",
            "      \"errors\":0,\n",
            "      \"avgRequestsPerSecond\":0.5046919174469461,\n",
            "      \"5minRateRequestsPerSecond\":0.52229416252929,\n",
            "      \"15minRateRequestsPerSecond\":0.6226120229047949,\n",
            "      \"avgTimePerRequest\":0.6816039762370596,\n",
            "      \"medianRequestTime\":0.665918,\n",
            "      \"75thPcRequestTime\":0.720515,\n",
            "      \"95thPcRequestTime\":0.872844,\n",
            "      \"99thPcRequestTime\":0.99482,\n",
            "      \"999thPcRequestTime\":1.069495},\n",
            "    \"create\",{\n",
            "      \"requests\":2,\n",
            "      \"errors\":2,\n",
            "      \"recent_failures\":[{\n",
            "          \"request\":{\n",
            "            \"name\":\"collection1\",\n",
            "            \"fromApi\":\"true\",\n",
            "            \"stateFormat\":\"2\",\n",
            "            \"operation\":\"create\"},\n",
            "          \"response\":[\n",
            "            \"Operation create caused exception:\",\"org.apache.solr.common.SolrException:org.apache.solr.common.SolrException: numShards is a required param (when using CompositeId router).\",\n",
            "            \"exception\",{\n",
            "              \"msg\":\"numShards is a required param (when using CompositeId router).\",\n",
            "              \"rspCode\":400}]},\n",
            "        {\n",
            "          \"request\":{\n",
            "            \"name\":\"collection1\",\n",
            "            \"fromApi\":\"true\",\n",
            "            \"numShards\":\"1\",\n",
            "            \"stateFormat\":\"2\",\n",
            "            \"operation\":\"create\"},\n",
            "          \"response\":[\n",
            "            \"Operation create caused exception:\",\"org.apache.solr.common.SolrException:org.apache.solr.common.SolrException: collection already exists: collection1\",\n",
            "            \"exception\",{\n",
            "              \"msg\":\"collection already exists: collection1\",\n",
            "              \"rspCode\":400}]}],\n",
            "      \"avgRequestsPerSecond\":0.008798526463208372,\n",
            "      \"5minRateRequestsPerSecond\":0.04869797098846165,\n",
            "      \"15minRateRequestsPerSecond\":0.12427892953372446,\n",
            "      \"avgTimePerRequest\":1301.4163530945677,\n",
            "      \"medianRequestTime\":1880.794994,\n",
            "      \"75thPcRequestTime\":1880.794994,\n",
            "      \"95thPcRequestTime\":3235.06311,\n",
            "      \"99thPcRequestTime\":3235.06311,\n",
            "      \"999thPcRequestTime\":3235.06311},\n",
            "    \"delete\",{\n",
            "      \"requests\":1,\n",
            "      \"errors\":0,\n",
            "      \"avgRequestsPerSecond\":0.0035551278840489178,\n",
            "      \"5minRateRequestsPerSecond\":0.0799699308689695,\n",
            "      \"15minRateRequestsPerSecond\":0.14734279502767977,\n",
            "      \"avgTimePerRequest\":447.617668,\n",
            "      \"medianRequestTime\":447.617668,\n",
            "      \"75thPcRequestTime\":447.617668,\n",
            "      \"95thPcRequestTime\":447.617668,\n",
            "      \"99thPcRequestTime\":447.617668,\n",
            "      \"999thPcRequestTime\":447.617668},\n",
            "    \"overseerstatus\",{\n",
            "      \"requests\":0,\n",
            "      \"errors\":0,\n",
            "      \"avgRequestsPerSecond\":0.0,\n",
            "      \"5minRateRequestsPerSecond\":0.0,\n",
            "      \"15minRateRequestsPerSecond\":0.0,\n",
            "      \"avgTimePerRequest\":0.0,\n",
            "      \"medianRequestTime\":0.0,\n",
            "      \"75thPcRequestTime\":0.0,\n",
            "      \"95thPcRequestTime\":0.0,\n",
            "      \"99thPcRequestTime\":0.0,\n",
            "      \"999thPcRequestTime\":0.0}],\n",
            "  \"overseer_queue\":[],\n",
            "  \"overseer_internal_queue\":[\n",
            "    \"peek\",{\n",
            "      \"avgRequestsPerSecond\":0.0012132251008347876,\n",
            "      \"5minRateRequestsPerSecond\":0.013218940663797796,\n",
            "      \"15minRateRequestsPerSecond\":0.0808634404058075,\n",
            "      \"avgTimePerRequest\":2.140877,\n",
            "      \"medianRequestTime\":2.140877,\n",
            "      \"75thPcRequestTime\":2.140877,\n",
            "      \"95thPcRequestTime\":2.140877,\n",
            "      \"99thPcRequestTime\":2.140877,\n",
            "      \"999thPcRequestTime\":2.140877}],\n",
            "  \"collection_queue\":[\n",
            "    \"remove_event\",{\n",
            "      \"avgRequestsPerSecond\":0.022033275011108227,\n",
            "      \"5minRateRequestsPerSecond\":0.10001730098352243,\n",
            "      \"15minRateRequestsPerSecond\":0.250185914398295,\n",
            "      \"avgTimePerRequest\":7.545821455987997,\n",
            "      \"medianRequestTime\":6.738626,\n",
            "      \"75thPcRequestTime\":8.270612,\n",
            "      \"95thPcRequestTime\":8.974273,\n",
            "      \"99thPcRequestTime\":20.969121,\n",
            "      \"999thPcRequestTime\":20.969121},\n",
            "    \"peektopn_wait2000\",{\n",
            "      \"avgRequestsPerSecond\":0.5022758867460722,\n",
            "      \"5minRateRequestsPerSecond\":0.49585628120169467,\n",
            "      \"15minRateRequestsPerSecond\":0.4608851420931794,\n",
            "      \"avgTimePerRequest\":1959.834096328623,\n",
            "      \"medianRequestTime\":2000.161303,\n",
            "      \"75thPcRequestTime\":2000.179879,\n",
            "      \"95thPcRequestTime\":2000.213467,\n",
            "      \"99thPcRequestTime\":2000.238841,\n",
            "      \"999thPcRequestTime\":2000.290061}]}\n"
          ]
        }
      ]
    }
  ]
}