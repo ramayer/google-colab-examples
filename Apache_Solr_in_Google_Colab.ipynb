{
  "nbformat": 4,
  "nbformat_minor": 0,
  "metadata": {
    "colab": {
      "name": "Apache Solr in Google Colab.ipynb",
      "provenance": [],
      "collapsed_sections": [],
      "include_colab_link": true
    },
    "kernelspec": {
      "name": "python3",
      "display_name": "Python 3"
    }
  },
  "cells": [
    {
      "cell_type": "markdown",
      "metadata": {
        "id": "view-in-github",
        "colab_type": "text"
      },
      "source": [
        "<a href=\"https://colab.research.google.com/github/ramayer/google-colab-examples/blob/main/Apache_Solr_in_Google_Colab.ipynb\" target=\"_parent\"><img src=\"https://colab.research.google.com/assets/colab-badge.svg\" alt=\"Open In Colab\"/></a>"
      ]
    },
    {
      "cell_type": "markdown",
      "metadata": {
        "id": "kvD4HBMi0ohY"
      },
      "source": [
        "# Install and run Solr on a Google Colab instance\n"
      ]
    },
    {
      "cell_type": "code",
      "metadata": {
        "colab": {
          "base_uri": "https://localhost:8080/"
        },
        "id": "aTI55dLx8GFy",
        "outputId": "a430e13c-ce0f-4c0d-dfa6-ccb256edd442"
      },
      "source": [
        "!java -version"
      ],
      "execution_count": 51,
      "outputs": [
        {
          "output_type": "stream",
          "name": "stdout",
          "text": [
            "openjdk version \"11.0.11\" 2021-04-20\n",
            "OpenJDK Runtime Environment (build 11.0.11+9-Ubuntu-0ubuntu2.18.04)\n",
            "OpenJDK 64-Bit Server VM (build 11.0.11+9-Ubuntu-0ubuntu2.18.04, mixed mode, sharing)\n"
          ]
        }
      ]
    },
    {
      "cell_type": "code",
      "metadata": {
        "id": "s5sqkfxXVd9m",
        "colab": {
          "base_uri": "https://localhost:8080/"
        },
        "outputId": "5bbba885-3b9f-4ee1-aaa9-fb9cf5ec2d0b"
      },
      "source": [
        "!wget -nc https://downloads.apache.org/lucene/solr/8.10.1/solr-8.10.1.tgz\n",
        "!tar xf solr-8.10.1.tgz"
      ],
      "execution_count": 52,
      "outputs": [
        {
          "output_type": "stream",
          "name": "stdout",
          "text": [
            "File ‘solr-8.10.1.tgz’ already there; not retrieving.\n",
            "\n"
          ]
        }
      ]
    },
    {
      "cell_type": "code",
      "metadata": {
        "colab": {
          "base_uri": "https://localhost:8080/"
        },
        "id": "zeozusPw8quc",
        "outputId": "cd45d97e-5e93-47e2-b458-ca4559655510"
      },
      "source": [
        "!(cd solr-8.10.1; ./bin/solr start -c -force)"
      ],
      "execution_count": 53,
      "outputs": [
        {
          "output_type": "stream",
          "name": "stdout",
          "text": [
            "\n",
            "Port 8983 is already being used by another process (pid: 189)\n",
            "Please choose a different port using the -p option.\n",
            "\n"
          ]
        }
      ]
    },
    {
      "cell_type": "code",
      "metadata": {
        "colab": {
          "base_uri": "https://localhost:8080/"
        },
        "id": "rO19QT4U9Uz2",
        "outputId": "aa4a0796-2ff7-44e4-9789-6e33994ed72c"
      },
      "source": [
        "!(cd solr-8.10.1; ./bin/solr create_collection -c test_collection -force)"
      ],
      "execution_count": 54,
      "outputs": [
        {
          "output_type": "stream",
          "name": "stdout",
          "text": [
            "WARNING: Using _default configset with data driven schema functionality. NOT RECOMMENDED for production use.\n",
            "         To turn off: bin/solr config -c test_collection -p 8983 -action set-user-property -property update.autoCreateFields -value false\n",
            "WARN  - 2021-10-20 05:56:43.637; org.apache.zookeeper.ClientCnxn; An exception was thrown while closing send thread for session 0x10000028fce0002. => EndOfStreamException: Unable to read additional data from server sessionid 0x10000028fce0002, likely server has closed socket\n",
            "\tat org.apache.zookeeper.ClientCnxnSocketNIO.doIO(ClientCnxnSocketNIO.java:77)\n",
            "org.apache.zookeeper.ClientCnxn$EndOfStreamException: Unable to read additional data from server sessionid 0x10000028fce0002, likely server has closed socket\n",
            "\tat org.apache.zookeeper.ClientCnxnSocketNIO.doIO(ClientCnxnSocketNIO.java:77) ~[zookeeper-3.6.2.jar:3.6.2]\n",
            "\tat org.apache.zookeeper.ClientCnxnSocketNIO.doTransport(ClientCnxnSocketNIO.java:350) ~[zookeeper-3.6.2.jar:3.6.2]\n",
            "\tat org.apache.zookeeper.ClientCnxn$SendThread.run(ClientCnxn.java:1275) ~[zookeeper-3.6.2.jar:3.6.2]\n",
            "\n",
            "ERROR: \n",
            "Collection 'test_collection' already exists!\n",
            "Checked collection existence using Collections API command:\n",
            "http://localhost:8983/solr/admin/collections?action=list\n",
            "\n"
          ]
        }
      ]
    },
    {
      "cell_type": "code",
      "metadata": {
        "colab": {
          "base_uri": "https://localhost:8080/"
        },
        "id": "7M6k-fzC-UIV",
        "outputId": "db379c7a-8737-4899-813e-c8b3e2e83428"
      },
      "source": [
        "!curl http://localhost:8983/solr/admin/collections?action=CLUSTERSTATUS\n"
      ],
      "execution_count": 55,
      "outputs": [
        {
          "output_type": "stream",
          "name": "stdout",
          "text": [
            "{\n",
            "  \"responseHeader\":{\n",
            "    \"status\":0,\n",
            "    \"QTime\":3},\n",
            "  \"cluster\":{\n",
            "    \"collections\":{\n",
            "      \"test_collection\":{\n",
            "        \"pullReplicas\":\"0\",\n",
            "        \"replicationFactor\":\"1\",\n",
            "        \"shards\":{\"shard1\":{\n",
            "            \"range\":\"80000000-7fffffff\",\n",
            "            \"state\":\"active\",\n",
            "            \"replicas\":{\"core_node2\":{\n",
            "                \"core\":\"test_collection_shard1_replica_n1\",\n",
            "                \"node_name\":\"172.28.0.2:8983_solr\",\n",
            "                \"base_url\":\"http://172.28.0.2:8983/solr\",\n",
            "                \"state\":\"active\",\n",
            "                \"type\":\"NRT\",\n",
            "                \"force_set_state\":\"false\",\n",
            "                \"leader\":\"true\"}},\n",
            "            \"health\":\"GREEN\"}},\n",
            "        \"router\":{\"name\":\"compositeId\"},\n",
            "        \"maxShardsPerNode\":\"-1\",\n",
            "        \"autoAddReplicas\":\"false\",\n",
            "        \"nrtReplicas\":\"1\",\n",
            "        \"tlogReplicas\":\"0\",\n",
            "        \"health\":\"GREEN\",\n",
            "        \"znodeVersion\":4,\n",
            "        \"configName\":\"test_collection\"}},\n",
            "    \"live_nodes\":[\"172.28.0.2:8983_solr\"]}}\n"
          ]
        }
      ]
    },
    {
      "cell_type": "markdown",
      "metadata": {
        "id": "j2phfJTf_AEd"
      },
      "source": [
        "Expose solr using ngrok"
      ]
    },
    {
      "cell_type": "code",
      "metadata": {
        "colab": {
          "base_uri": "https://localhost:8080/"
        },
        "id": "z16eSBSg90yH",
        "outputId": "66afed46-af8c-427b-9640-b7fc8620ea86"
      },
      "source": [
        "!wget -nc https://bin.equinox.io/c/4VmDzA7iaHb/ngrok-stable-linux-amd64.zip\n",
        "!unzip -n ngrok-stable-linux-amd64.zip\n",
        "#get_ipython().system_raw('./ngrok http 4050 &')\n",
        "!curl -s http://localhost:4040/api/tunnels\n",
        "\n",
        "# !(sh -c \"nohup ./ngrok http 8983 &\") ; echo \"started ngrok\"1\n",
        "# !curl http://localhost:4040/api/tunnels"
      ],
      "execution_count": 65,
      "outputs": [
        {
          "output_type": "stream",
          "name": "stdout",
          "text": [
            "File ‘ngrok-stable-linux-amd64.zip’ already there; not retrieving.\n",
            "\n",
            "Archive:  ngrok-stable-linux-amd64.zip\n"
          ]
        }
      ]
    },
    {
      "cell_type": "code",
      "metadata": {
        "id": "SpaZotSY_3l1",
        "outputId": "08095d79-e4b6-4266-83d6-595abdf043c3",
        "colab": {
          "base_uri": "https://localhost:8080/"
        }
      },
      "source": [
        "%pip install pysolr"
      ],
      "execution_count": 70,
      "outputs": [
        {
          "output_type": "stream",
          "name": "stdout",
          "text": [
            "Requirement already satisfied: pysolr in /usr/local/lib/python3.7/dist-packages (3.9.0)\n",
            "Requirement already satisfied: requests>=2.9.1 in /usr/local/lib/python3.7/dist-packages (from pysolr) (2.23.0)\n",
            "Requirement already satisfied: idna<3,>=2.5 in /usr/local/lib/python3.7/dist-packages (from requests>=2.9.1->pysolr) (2.10)\n",
            "Requirement already satisfied: chardet<4,>=3.0.2 in /usr/local/lib/python3.7/dist-packages (from requests>=2.9.1->pysolr) (3.0.4)\n",
            "Requirement already satisfied: urllib3!=1.25.0,!=1.25.1,<1.26,>=1.21.1 in /usr/local/lib/python3.7/dist-packages (from requests>=2.9.1->pysolr) (1.24.3)\n",
            "Requirement already satisfied: certifi>=2017.4.17 in /usr/local/lib/python3.7/dist-packages (from requests>=2.9.1->pysolr) (2021.5.30)\n"
          ]
        }
      ]
    },
    {
      "cell_type": "code",
      "metadata": {
        "id": "FAf7gNfGCQin"
      },
      "source": [
        "import pysolr\n",
        "\n",
        "solr = pysolr.Solr('http://localhost:8983/solr/test_collection')"
      ],
      "execution_count": 77,
      "outputs": []
    },
    {
      "cell_type": "code",
      "metadata": {
        "id": "ioEeKE0TFBIB",
        "outputId": "c552e758-770e-46b4-c082-277f71e0ff5c",
        "colab": {
          "base_uri": "https://localhost:8080/",
          "height": 35
        }
      },
      "source": [
        "solr.add([{'id':1,'text':'hello'}])\n"
      ],
      "execution_count": 79,
      "outputs": [
        {
          "output_type": "execute_result",
          "data": {
            "application/vnd.google.colaboratory.intrinsic+json": {
              "type": "string"
            },
            "text/plain": [
              "'{\\n  \"responseHeader\":{\\n    \"rf\":1,\\n    \"status\":0,\\n    \"QTime\":459}}\\n'"
            ]
          },
          "metadata": {},
          "execution_count": 79
        }
      ]
    },
    {
      "cell_type": "code",
      "metadata": {
        "id": "mX8IKSpXFBFM",
        "outputId": "336f5c11-3dc5-4865-a4f1-10249ce7392b",
        "colab": {
          "base_uri": "https://localhost:8080/"
        }
      },
      "source": [
        "results = solr.search('hello')\n",
        "results.raw_response"
      ],
      "execution_count": 83,
      "outputs": [
        {
          "output_type": "execute_result",
          "data": {
            "text/plain": [
              "{'response': {'docs': [], 'numFound': 0, 'numFoundExact': True, 'start': 0},\n",
              " 'responseHeader': {'QTime': 1,\n",
              "  'params': {'q': 'hello', 'wt': 'json'},\n",
              "  'status': 0,\n",
              "  'zkConnected': True}}"
            ]
          },
          "metadata": {},
          "execution_count": 83
        }
      ]
    }
  ]
}